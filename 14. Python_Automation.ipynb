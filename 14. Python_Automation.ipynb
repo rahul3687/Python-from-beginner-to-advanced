{
  "cells": [
    {
      "cell_type": "markdown",
      "metadata": {},
      "source": [
        "# Automation in Python\n",
        "\n",
        "In this notebook, we will explore how to automate various tasks in Python. Topics include:\n",
        "\n",
        "1. **Task Scheduling**  \n",
        "2. **Web Automation (Selenium)**  \n",
        "3. **File and Data Processing Scripts**  \n",
        "\n",
        "Automation can boost productivity and reduce human error by allowing scripts to run regularly and perform actions hands-free."
      ]
    },
    {
      "cell_type": "markdown",
      "metadata": {},
      "source": [
        "## Table of Contents\n",
        "1. [Task Scheduling](#task-scheduling)\n",
        "2. [Web Automation (Selenium)](#web-automation)\n",
        "3. [File and Data Processing Scripts](#file-data-processing)\n"
      ]
    },
    {
      "cell_type": "markdown",
      "metadata": {},
      "source": [
        "## 1. Task Scheduling <a name=\"task-scheduling\"></a>\n",
        "\n",
        "### Why Schedule Tasks?\n",
        "Automating periodic tasks can free you from manual repetition. Examples include:\n",
        "- Backing up files\n",
        "- Sending reminder emails\n",
        "- Downloading and processing data daily\n",
        "\n",
        "### Approaches to Scheduling\n",
        "1. **OS-Level Schedulers**:  \n",
        "   - **Windows**: Task Scheduler\n",
        "   - **macOS / Linux**: `cron`\n",
        "2. **Python Libraries**:\n",
        "   - `schedule`: A lightweight Python scheduler\n",
        "   - APScheduler: Advanced Python Scheduler with multiple backends\n",
        "\n",
        "We’ll demonstrate a simple usage of the `schedule` library for demonstration in this notebook."
      ]
    },
    {
      "cell_type": "code",
      "metadata": {},
      "source": [
        "# To install: pip install schedule\n",
        "import schedule\n",
        "import time\n",
        "\n",
        "def job():\n",
        "    print(\"I'm running a scheduled job!\")\n",
        "\n",
        "# Let's schedule the job to run every 5 seconds (for demo purposes).\n",
        "# In real scenarios, it could be schedule.every().day.at('10:30'), etc.\n",
        "schedule.every(5).seconds.do(job)\n",
        "\n",
        "count = 0\n",
        "while count < 3:  # We'll run 3 times and then stop.\n",
        "    schedule.run_pending()\n",
        "    time.sleep(1)\n",
        "    count += 1\n",
        "\n",
        "print(\"Done scheduling demo.\")"
      ],
      "execution_count": null,
      "outputs": []
    },
    {
      "cell_type": "markdown",
      "metadata": {},
      "source": [
        "**Explanation**:\n",
        "- `schedule.every(5).seconds.do(job)`: Schedules `job()` to run every 5 seconds.\n",
        "- We run `schedule.run_pending()` inside a loop to allow scheduled jobs to execute.\n",
        "- In a real script, you might run `while True: schedule.run_pending() ...` indefinitely (or use a more sophisticated approach)."
      ]
    },
    {
      "cell_type": "markdown",
      "metadata": {},
      "source": [
        "## 2. Web Automation (Selenium) <a name=\"web-automation\"></a>\n",
        "\n",
        "Automating web tasks (like filling forms, scraping data, or performing UI tests) is possible with **Selenium**.\n",
        "\n",
        "### Key Steps\n",
        "1. **Install Selenium**: `pip install selenium`\n",
        "2. **Download a WebDriver** (e.g., ChromeDriver, GeckoDriver)\n",
        "3. Write scripts that open a browser, navigate to URLs, and interact with HTML elements.\n",
        "\n",
        "Below is a minimal demo (similar to our previous example)."
      ]
    },
    {
      "cell_type": "code",
      "metadata": {},
      "source": [
        "# NOTE: This example requires you to have Selenium and a WebDriver installed.\n",
        "from selenium import webdriver\n",
        "from selenium.webdriver.chrome.service import Service\n",
        "from selenium.webdriver.common.by import By\n",
        "import time\n",
        "\n",
        "def automate_website():\n",
        "    # Provide the path to your downloaded ChromeDriver\n",
        "    service = Service(\"/path/to/chromedriver\")  # e.g., /usr/local/bin/chromedriver\n",
        "    driver = webdriver.Chrome(service=service)\n",
        "\n",
        "    try:\n",
        "        driver.get(\"https://www.python.org\")\n",
        "        time.sleep(2)\n",
        "\n",
        "        # Example: Searching for 'automation' in the Python.org search box\n",
        "        search_box = driver.find_element(By.NAME, 'q')\n",
        "        search_box.clear()\n",
        "        search_box.send_keys(\"automation\")\n",
        "        search_box.submit()\n",
        "\n",
        "        time.sleep(3)\n",
        "        print(\"Page title after search:\", driver.title)\n",
        "\n",
        "    finally:\n",
        "        driver.quit()\n",
        "\n",
        "# NOTE: This won't run properly in a notebook environment without the proper setup.\n",
        "# Uncomment to run locally (once you have chromedriver setup):\n",
        "# automate_website()"
      ],
      "execution_count": null,
      "outputs": []
    },
    {
      "cell_type": "markdown",
      "metadata": {},
      "source": [
        "**Explanation**:\n",
        "- We open `https://www.python.org`.\n",
        "- Wait 2 seconds to let the page load.\n",
        "- Enter the word \"automation\" in the search box, then submit.\n",
        "- Wait again, and print the title of the results page.\n",
        "- Finally, we close the browser with `driver.quit()`.\n",
        "\n",
        "This pattern can be extended for form-filling, button-clicking, and any web-based repetitive task."
      ]
    },
    {
      "cell_type": "markdown",
      "metadata": {},
      "source": [
        "## 3. File and Data Processing Scripts <a name=\"file-data-processing\"></a>\n",
        "\n",
        "Another vital area of automation is handling **files** and **data**. Python provides:\n",
        "- Built-in file I/O (`open`, `read`, `write`, etc.).\n",
        "- Libraries for **CSV**, **JSON**, **Excel**, and more.\n",
        "- Tools like **pandas** for data manipulation.\n",
        "\n",
        "### Example 1: Batch Renaming Files\n",
        "Rename a set of files in a directory (a very common automation task)."
      ]
    },
    {
      "cell_type": "code",
      "metadata": {},
      "source": [
        "import os\n",
        "import glob\n",
        "\n",
        "def batch_rename_files(directory, old_ext, new_ext):\n",
        "    \"\"\"\n",
        "    Renames all files in `directory` having extension `old_ext` to `new_ext`.\n",
        "    \"\"\"\n",
        "    pattern = os.path.join(directory, f\"*.{old_ext}\")\n",
        "    files = glob.glob(pattern)\n",
        "    for file_path in files:\n",
        "        # e.g., /path/to/file.txt -> /path/to/file.md\n",
        "        base = os.path.splitext(file_path)[0]\n",
        "        new_path = base + f\".{new_ext}\"\n",
        "        os.rename(file_path, new_path)\n",
        "        print(f\"Renamed: {file_path} -> {new_path}\")\n",
        "\n",
        "# Example usage (uncomment to run):\n",
        "# batch_rename_files(\"/path/to/directory\", \"txt\", \"md\")"
      ],
      "execution_count": null,
      "outputs": []
    },
    {
      "cell_type": "markdown",
      "metadata": {},
      "source": [
        "### Example 2: Processing CSV Data\n",
        "Use the `csv` module or **pandas** to read, filter, and write CSV data automatically."
      ]
    },
    {
      "cell_type": "code",
      "metadata": {},
      "source": [
        "import csv\n",
        "import pandas as pd\n",
        "\n",
        "def process_csv(input_file, output_file):\n",
        "    \"\"\"\n",
        "    Reads a CSV file, filters rows, and writes to a new CSV.\n",
        "    In this example, we'll filter out rows where 'Age' < 18.\n",
        "    \"\"\"\n",
        "    # Using pandas for convenience\n",
        "    df = pd.read_csv(input_file)\n",
        "    # Let's assume there's a column named 'Age'\n",
        "    filtered_df = df[df['Age'] >= 18]\n",
        "    filtered_df.to_csv(output_file, index=False)\n",
        "    print(f\"Filtered data saved to {output_file}\")\n",
        "\n",
        "# Example usage (uncomment to run):\n",
        "# process_csv(\"people.csv\", \"adults.csv\")"
      ],
      "execution_count": null,
      "outputs": []
    },
    {
      "cell_type": "markdown",
      "metadata": {},
      "source": [
        "**Explanation**:\n",
        "- We load a CSV into a pandas DataFrame.\n",
        "- Perform a filter: `df['Age'] >= 18`.\n",
        "- Save the filtered dataset to a new CSV file.\n",
        "- This script can be scheduled with `cron` (Linux/macOS), Windows Task Scheduler, or a Python scheduler for daily/weekly automation."
      ]
    },
    {
      "cell_type": "markdown",
      "metadata": {},
      "source": [
        "# Conclusion\n",
        "In this notebook, we covered:\n",
        "\n",
        "1. **Task Scheduling**: Running Python scripts at specific intervals using the `schedule` library (or OS schedulers).\n",
        "2. **Web Automation (Selenium)**: Automating browsers for tasks like form-filling, clicking, or scraping dynamic content.\n",
        "3. **File and Data Processing**: Common scripts for file renaming, CSV manipulation, and other data workflows.\n",
        "\n",
        "Automation is a powerful way to reduce manual effort, streamline workflows, and ensure tasks run reliably over time. With Python, you have a vast ecosystem of libraries and tools at your disposal. Combine them with scheduling, and you can build robust automation pipelines that run daily, weekly, or on-demand with minimal human intervention!\n"
      ]
    }
  ],
  "metadata": {
    "name": "Automation.ipynb",
    "kernelspec": {
      "display_name": "Python 3",
      "language": "python",
      "name": "python3"
    }
  },
  "nbformat": 4,
  "nbformat_minor": 5
}
