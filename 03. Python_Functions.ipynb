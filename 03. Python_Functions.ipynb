{
 "cells": [
  {
   "cell_type": "markdown",
   "id": "7fa0ca46",
   "metadata": {},
   "source": [
    "# Python Functions"
   ]
  },
  {
   "cell_type": "markdown",
   "id": "02b5b53b",
   "metadata": {},
   "source": [
    "\n",
    "Functions in Python are reusable blocks of code that perform a specific task. Functions help in organizing code, avoiding repetition, and improving readability.\n",
    "\n",
    "This notebook covers the following topics:\n",
    "1. Defining and Calling Functions\n",
    "2. Function Arguments (positional, keyword, default, variable-length)\n",
    "3. Return Statements\n",
    "4. Lambda Functions\n",
    "5. Scope and Lifetime of Variables\n",
    "6. Recursion\n",
    "    "
   ]
  },
  {
   "cell_type": "markdown",
   "id": "0e94949f",
   "metadata": {},
   "source": [
    "## Defining and Calling Functions"
   ]
  },
  {
   "cell_type": "markdown",
   "id": "c3fa8ace",
   "metadata": {},
   "source": [
    "\n",
    "### Theory\n",
    "- Functions are defined using the `def` keyword followed by the function name and parentheses.\n",
    "- A function can accept zero or more parameters and can return a value.\n",
    "- A function helps modularize code and makes it reusable.\n",
    "- Functions must be called explicitly to execute their code.\n",
    "\n",
    "#### Syntax\n",
    "```python\n",
    "def function_name(parameters):\n",
    "    # Function body\n",
    "    return value\n",
    "```\n"
   ]
  },
  {
   "cell_type": "code",
   "execution_count": null,
   "id": "0c3da61e",
   "metadata": {},
   "outputs": [],
   "source": [
    "\n",
    "# Example: Defining and Calling Functions\n",
    "def greet(name):\n",
    "    \"\"\"This function greets the person whose name is passed as an argument.\"\"\"\n",
    "    return f\"Hello, {name}!\"\n",
    "\n",
    "# Call the function\n",
    "print(greet(\"Alice\"))\n"
   ]
  },
  {
   "cell_type": "markdown",
   "id": "ba002105",
   "metadata": {},
   "source": [
    "## Function Arguments"
   ]
  },
  {
   "cell_type": "markdown",
   "id": "44e38b06",
   "metadata": {},
   "source": [
    "\n",
    "### Theory\n",
    "Functions can accept different types of arguments:\n",
    "\n",
    "1. **Positional Arguments**: Passed to a function in the same order as their corresponding parameters.\n",
    "2. **Keyword Arguments**: Explicitly assign values to parameters by name.\n",
    "3. **Default Arguments**: Provide default values for parameters; used if no argument is passed.\n",
    "4. **Variable-length Arguments**:\n",
    "   - `*args`: Pass a variable number of positional arguments.\n",
    "   - `**kwargs`: Pass a variable number of keyword arguments.\n"
   ]
  },
  {
   "cell_type": "markdown",
   "id": "3f5e7800",
   "metadata": {},
   "source": [
    "### Positional Arguments"
   ]
  },
  {
   "cell_type": "code",
   "execution_count": null,
   "id": "590f0d30",
   "metadata": {},
   "outputs": [],
   "source": [
    "\n",
    "# Example: Positional Arguments\n",
    "def add_numbers(a, b):\n",
    "    return a + b\n",
    "\n",
    "# Pass arguments by position\n",
    "print(add_numbers(3, 5))\n"
   ]
  },
  {
   "cell_type": "markdown",
   "id": "85a60acd",
   "metadata": {},
   "source": [
    "### Keyword Arguments"
   ]
  },
  {
   "cell_type": "code",
   "execution_count": null,
   "id": "b465ceec",
   "metadata": {},
   "outputs": [],
   "source": [
    "\n",
    "# Example: Keyword Arguments\n",
    "def describe_person(name, age):\n",
    "    return f\"{name} is {age} years old.\"\n",
    "\n",
    "# Pass arguments by keyword\n",
    "print(describe_person(age=30, name=\"Bob\"))\n"
   ]
  },
  {
   "cell_type": "markdown",
   "id": "4c8b199e",
   "metadata": {},
   "source": [
    "### Default Arguments"
   ]
  },
  {
   "cell_type": "code",
   "execution_count": null,
   "id": "4942f14b",
   "metadata": {},
   "outputs": [],
   "source": [
    "\n",
    "# Example: Default Arguments\n",
    "def greet(name, greeting=\"Hello\"):\n",
    "    return f\"{greeting}, {name}!\"\n",
    "\n",
    "# Call with and without the default argument\n",
    "print(greet(\"Rahul\"))\n",
    "print(greet(\"Rahul\", \"Hi\"))\n"
   ]
  },
  {
   "cell_type": "markdown",
   "id": "ecc2ee36",
   "metadata": {},
   "source": [
    "### Variable-length Arguments"
   ]
  },
  {
   "cell_type": "code",
   "execution_count": null,
   "id": "43430837",
   "metadata": {},
   "outputs": [],
   "source": [
    "\n",
    "# Example: Variable-length Arguments\n",
    "def sum_all(*numbers):\n",
    "    return sum(numbers)\n",
    "\n",
    "# Pass any number of arguments\n",
    "print(sum_all(1, 2, 3, 4, 5))\n"
   ]
  },
  {
   "cell_type": "markdown",
   "id": "171a8b8b",
   "metadata": {},
   "source": [
    "## Return Statements"
   ]
  },
  {
   "cell_type": "markdown",
   "id": "ae4de17e",
   "metadata": {},
   "source": [
    "\n",
    "### Theory\n",
    "- The `return` statement sends a value back to the caller.\n",
    "- A function can return multiple values as a tuple.\n",
    "- Functions without a `return` statement return `None` by default.\n"
   ]
  },
  {
   "cell_type": "code",
   "execution_count": null,
   "id": "81ae87c4",
   "metadata": {},
   "outputs": [],
   "source": [
    "\n",
    "# Example: Return Statement\n",
    "def square(num):\n",
    "    return num * num\n",
    "\n",
    "print(square(4))\n"
   ]
  },
  {
   "cell_type": "markdown",
   "id": "695597c4",
   "metadata": {},
   "source": [
    "## Lambda Functions"
   ]
  },
  {
   "cell_type": "markdown",
   "id": "fd375c2d",
   "metadata": {},
   "source": [
    "\n",
    "### Theory\n",
    "- Lambda functions are anonymous functions defined with the `lambda` keyword.\n",
    "- Used for small, single-use functions.\n",
    "- They have a compact syntax: `lambda arguments: expression`.\n",
    "\n",
    "#### Use Cases\n",
    "- Quick calculations or operations.\n",
    "- Used as arguments to higher-order functions like `map()`, `filter()`, and `reduce()`.\n"
   ]
  },
  {
   "cell_type": "code",
   "execution_count": null,
   "id": "52198bf8",
   "metadata": {},
   "outputs": [],
   "source": [
    "\n",
    "# Example: Lambda Function\n",
    "square = lambda x: x * x\n",
    "print(square(5))\n"
   ]
  },
  {
   "cell_type": "markdown",
   "id": "7bab167e",
   "metadata": {},
   "source": [
    "## Scope and Lifetime of Variables"
   ]
  },
  {
   "cell_type": "markdown",
   "id": "8187d739",
   "metadata": {},
   "source": [
    "\n",
    "### Theory\n",
    "- **Scope** refers to where a variable is accessible in the code.\n",
    "  - Local: Inside a function.\n",
    "  - Global: Outside all functions.\n",
    "  - Nonlocal: Inside nested functions.\n",
    "- **Lifetime** is the duration a variable exists.\n",
    "  - Local variables exist only during the function call.\n"
   ]
  },
  {
   "cell_type": "code",
   "execution_count": null,
   "id": "cccb9196",
   "metadata": {},
   "outputs": [],
   "source": [
    "\n",
    "# Example: Local and Global Scope\n",
    "x = 10  # Global variable\n",
    "\n",
    "def modify_global():\n",
    "    global x  # Declare global variable\n",
    "    x += 5\n",
    "\n",
    "modify_global()\n",
    "print(f\"Global x: {x}\")\n"
   ]
  },
  {
   "cell_type": "markdown",
   "id": "0012c422",
   "metadata": {},
   "source": [
    "## Recursion"
   ]
  },
  {
   "cell_type": "markdown",
   "id": "e79b9685",
   "metadata": {},
   "source": [
    "\n",
    "### Theory\n",
    "- A recursive function calls itself to solve smaller subproblems.\n",
    "- Consists of:\n",
    "  - Base Case: Terminates the recursion.\n",
    "  - Recursive Case: Breaks the problem into smaller instances.\n",
    "\n",
    "#### Advantages\n",
    "- Simplifies solving problems that have a repetitive nature.\n",
    "\n",
    "#### Disadvantages\n",
    "- May lead to a `RecursionError` if the recursion depth exceeds the limit.\n",
    "- Can be memory-intensive for deep recursions.\n",
    "\n",
    "#### Syntax\n",
    "```python\n",
    "def recursive_function(parameters):\n",
    "    if base_condition:\n",
    "        return base_result\n",
    "    return recursive_function(smaller_problem)\n",
    "```\n"
   ]
  },
  {
   "cell_type": "code",
   "execution_count": null,
   "id": "83652d7a",
   "metadata": {},
   "outputs": [],
   "source": [
    "\n",
    "# Example: Recursion\n",
    "def factorial(n):\n",
    "    if n == 0:  # Base case\n",
    "        return 1\n",
    "    return n * factorial(n - 1)  # Recursive case\n",
    "\n",
    "print(factorial(5))\n"
   ]
  }
 ],
 "metadata": {
  "kernelspec": {
   "display_name": "Python 3 (ipykernel)",
   "language": "python",
   "name": "python3"
  },
  "language_info": {
   "codemirror_mode": {
    "name": "ipython",
    "version": 3
   },
   "file_extension": ".py",
   "mimetype": "text/x-python",
   "name": "python",
   "nbconvert_exporter": "python",
   "pygments_lexer": "ipython3",
   "version": "3.12.7"
  }
 },
 "nbformat": 4,
 "nbformat_minor": 5
}
