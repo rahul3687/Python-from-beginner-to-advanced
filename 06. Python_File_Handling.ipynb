{
 "cells": [
  {
   "cell_type": "markdown",
   "id": "9d75ca68",
   "metadata": {},
   "source": [
    "# Python File Handling"
   ]
  },
  {
   "cell_type": "markdown",
   "id": "d2c728eb",
   "metadata": {},
   "source": [
    "\n",
    "File handling in Python is used to work with files for reading, writing, and managing file operations. Python provides a built-in `open()` function to handle file operations. It also includes robust mechanisms for error handling during file access.\n",
    "\n",
    "This notebook covers the following topics:\n",
    "1. Reading and Writing Files\n",
    "2. File Modes\n",
    "3. Working with Directories\n",
    "4. Exception Handling in File Operations\n",
    "    "
   ]
  },
  {
   "cell_type": "markdown",
   "id": "a69e8196",
   "metadata": {},
   "source": [
    "## Reading and Writing Files"
   ]
  },
  {
   "cell_type": "markdown",
   "id": "6753d8e5",
   "metadata": {},
   "source": [
    "\n",
    "### Theory\n",
    "- Files in Python can be opened using the `open()` function, which returns a file object.\n",
    "- **Syntax**: `open(filename, mode)`\n",
    "- Common modes for file operations:\n",
    "  - `'r'`: Read mode (default).\n",
    "  - `'w'`: Write mode (overwrites the file).\n",
    "  - `'a'`: Append mode (adds to the end of the file).\n",
    "  - `'rb'` or `'wb'`: Binary modes for reading/writing.\n",
    "\n",
    "#### Reading Files\n",
    "- Use `.read()` to read the entire file content.\n",
    "- Use `.readline()` to read one line at a time.\n",
    "- Use `.readlines()` to read all lines as a list.\n",
    "\n",
    "#### Writing Files\n",
    "- Use `.write()` to write data to a file.\n",
    "- Use `.writelines()` to write multiple lines to a file.\n"
   ]
  },
  {
   "cell_type": "code",
   "execution_count": null,
   "id": "d0e2d950",
   "metadata": {},
   "outputs": [],
   "source": [
    "\n",
    "# Example: Reading a File\n",
    "# Ensure 'sample.txt' exists in the working directory\n",
    "with open(\"sample.txt\", \"r\") as file:\n",
    "    content = file.read()\n",
    "    print(\"File Content:\")\n",
    "    print(content)\n"
   ]
  },
  {
   "cell_type": "code",
   "execution_count": null,
   "id": "4b723ec0",
   "metadata": {},
   "outputs": [],
   "source": [
    "\n",
    "# Example: Writing to a File\n",
    "with open(\"output.txt\", \"w\") as file:\n",
    "    file.write(\"Hello, Python File Handling!\\n\")\n",
    "    file.write(\"This is a new file created using Python.\")\n",
    "\n",
    "# Verify content written\n",
    "with open(\"output.txt\", \"r\") as file:\n",
    "    print(\"Written Content:\")\n",
    "    print(file.read())\n"
   ]
  },
  {
   "cell_type": "markdown",
   "id": "cac7bc96",
   "metadata": {},
   "source": [
    "## File Modes"
   ]
  },
  {
   "cell_type": "markdown",
   "id": "16ede0e9",
   "metadata": {},
   "source": [
    "\n",
    "### Theory\n",
    "- Python supports several file modes to control how files are accessed or modified.\n",
    "- **Common Modes**:\n",
    "  - `'r'`: Read mode (file must exist).\n",
    "  - `'w'`: Write mode (creates or overwrites the file).\n",
    "  - `'a'`: Append mode (creates the file if it doesn't exist).\n",
    "  - `'x'`: Exclusive creation (fails if file exists).\n",
    "  - `'b'`: Binary mode (used with `'rb'`, `'wb'`).\n",
    "  - `'+'`: Update mode (read and write).\n",
    "\n",
    "#### Example:\n",
    "Mode combinations like `'r+'`, `'w+'`, `'a+'` allow simultaneous reading and writing.\n"
   ]
  },
  {
   "cell_type": "code",
   "execution_count": null,
   "id": "d64806fc",
   "metadata": {},
   "outputs": [],
   "source": [
    "\n",
    "# Example: File Modes\n",
    "# Write mode: Overwrite content\n",
    "with open(\"example.txt\", \"w\") as file:\n",
    "    file.write(\"This is overwritten content.\")\n",
    "\n",
    "# Append mode: Add content without overwriting\n",
    "with open(\"example.txt\", \"a\") as file:\n",
    "    file.write(\"\\nThis is appended content.\")\n",
    "\n",
    "# Read mode: Display content\n",
    "with open(\"example.txt\", \"r\") as file:\n",
    "    print(\"File Content:\")\n",
    "    print(file.read())\n"
   ]
  },
  {
   "cell_type": "markdown",
   "id": "9a7a989e",
   "metadata": {},
   "source": [
    "## Working with Directories"
   ]
  },
  {
   "cell_type": "markdown",
   "id": "13811ad6",
   "metadata": {},
   "source": [
    "\n",
    "### Theory\n",
    "- Python's `os` and `os.path` modules provide functions for working with directories and file paths.\n",
    "- Common Operations:\n",
    "  - Create a directory: `os.mkdir()` or `os.makedirs()`\n",
    "  - List contents: `os.listdir()`\n",
    "  - Check existence: `os.path.exists()`\n",
    "  - Remove a file: `os.remove()`\n",
    "  - Remove a directory: `os.rmdir()`\n"
   ]
  },
  {
   "cell_type": "code",
   "execution_count": null,
   "id": "de6814d9",
   "metadata": {},
   "outputs": [],
   "source": [
    "\n",
    "import os\n",
    "\n",
    "# Create a directory\n",
    "os.mkdir(\"new_folder\")\n",
    "print(\"Directory 'new_folder' created.\")\n",
    "\n",
    "# List current directory contents\n",
    "print(\"Current Directory Contents:\")\n",
    "print(os.listdir(\".\"))\n",
    "\n",
    "# Remove the directory\n",
    "os.rmdir(\"new_folder\")\n",
    "print(\"Directory 'new_folder' removed.\")\n"
   ]
  },
  {
   "cell_type": "markdown",
   "id": "cbc7d61d",
   "metadata": {},
   "source": [
    "## Exception Handling in File Operations"
   ]
  },
  {
   "cell_type": "markdown",
   "id": "9dcf7413",
   "metadata": {},
   "source": [
    "\n",
    "### Theory\n",
    "- File operations can fail due to reasons like missing files, permission errors, or incorrect paths.\n",
    "- Python provides `try-except` blocks to handle these exceptions gracefully.\n",
    "\n",
    "#### Common Exceptions:\n",
    "- `FileNotFoundError`: Raised when a file doesn't exist.\n",
    "- `PermissionError`: Raised when access to a file is denied.\n",
    "- `IsADirectoryError`: Raised when trying to open a directory as a file.\n",
    "\n",
    "#### Best Practices:\n",
    "- Always close files using `file.close()` or the `with` statement to ensure proper resource management.\n",
    "- Check file existence with `os.path.exists()` before performing operations.\n"
   ]
  },
  {
   "cell_type": "code",
   "execution_count": null,
   "id": "33e2a337",
   "metadata": {},
   "outputs": [],
   "source": [
    "\n",
    "# Example: Exception Handling\n",
    "try:\n",
    "    with open(\"non_existent_file.txt\", \"r\") as file:\n",
    "        content = file.read()\n",
    "except FileNotFoundError:\n",
    "    print(\"Error: The file does not exist.\")\n",
    "except PermissionError:\n",
    "    print(\"Error: Permission denied.\")\n",
    "else:\n",
    "    print(\"File Content:\")\n",
    "    print(content)\n",
    "finally:\n",
    "    print(\"File operation completed.\")\n"
   ]
  }
 ],
 "metadata": {},
 "nbformat": 4,
 "nbformat_minor": 5
}