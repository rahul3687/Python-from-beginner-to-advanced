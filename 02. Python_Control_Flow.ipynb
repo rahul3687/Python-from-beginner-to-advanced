{
 "cells": [
  {
   "cell_type": "markdown",
   "id": "85fd3855",
   "metadata": {},
   "source": [
    "# Python Control Flow"
   ]
  },
  {
   "cell_type": "markdown",
   "id": "168499e3",
   "metadata": {},
   "source": [
    "\n",
    "Control flow in Python allows you to direct the execution of code based on conditions and loops. In this notebook, we will cover the following topics:\n",
    "1. If-Else Statements\n",
    "2. Loops (for, while)\n",
    "3. Break, Continue, and Pass Statements\n",
    "4. Ternary Operators\n",
    "    "
   ]
  },
  {
   "cell_type": "markdown",
   "id": "ab82138d",
   "metadata": {},
   "source": [
    "## If-Else Statements"
   ]
  },
  {
   "cell_type": "markdown",
   "id": "e208cafa",
   "metadata": {},
   "source": [
    "\n",
    "### Theory\n",
    "- Python uses `if`, `elif`, and `else` to perform conditional execution.\n",
    "- The code block under each condition must be indented.\n"
   ]
  },
  {
   "cell_type": "code",
   "execution_count": 43,
   "id": "04155a3d",
   "metadata": {},
   "outputs": [
    {
     "name": "stdin",
     "output_type": "stream",
     "text": [
      "Enter a number:  0\n"
     ]
    },
    {
     "name": "stdout",
     "output_type": "stream",
     "text": [
      "0 is zero.\n"
     ]
    }
   ],
   "source": [
    "\n",
    "# Example: If-Else Statement\n",
    "number = int(input(\"Enter a number: \"))\n",
    "\n",
    "if number > 0:\n",
    "    print(f\"{number} is positive.\")\n",
    "elif number < 0:\n",
    "    print(f\"{number} is negative.\")\n",
    "else:\n",
    "    print(f\"{number} is zero.\")\n"
   ]
  },
  {
   "cell_type": "markdown",
   "id": "31f6b6d3",
   "metadata": {},
   "source": [
    "## Loops"
   ]
  },
  {
   "cell_type": "markdown",
   "id": "17092c85",
   "metadata": {},
   "source": [
    "### For Loops"
   ]
  },
  {
   "cell_type": "markdown",
   "id": "cf6e3dc3",
   "metadata": {},
   "source": [
    "\n",
    "### Theory\n",
    "- The `for` loop in Python is used to iterate over a sequence (list, tuple, string, etc.).\n"
   ]
  },
  {
   "cell_type": "code",
   "execution_count": 47,
   "id": "60b2b04b",
   "metadata": {},
   "outputs": [
    {
     "name": "stdout",
     "output_type": "stream",
     "text": [
      "I like apple.\n",
      "I like banana.\n",
      "I like cherry.\n"
     ]
    }
   ],
   "source": [
    "\n",
    "# Example: For Loop\n",
    "fruits = [\"apple\", \"banana\", \"cherry\"]\n",
    "\n",
    "for fruit in fruits:\n",
    "    print(f\"I like {fruit}.\")\n"
   ]
  },
  {
   "cell_type": "markdown",
   "id": "37b7c6a8",
   "metadata": {},
   "source": [
    "### While Loops"
   ]
  },
  {
   "cell_type": "markdown",
   "id": "95d616ad",
   "metadata": {},
   "source": [
    "\n",
    "### Theory\n",
    "- The `while` loop continues to execute as long as the condition is `True`.\n"
   ]
  },
  {
   "cell_type": "code",
   "execution_count": 51,
   "id": "a697c2e3",
   "metadata": {},
   "outputs": [
    {
     "name": "stdout",
     "output_type": "stream",
     "text": [
      "Counting down: 5\n",
      "Counting down: 4\n",
      "Counting down: 3\n",
      "Counting down: 2\n",
      "Counting down: 1\n"
     ]
    }
   ],
   "source": [
    "\n",
    "# Example: While Loop\n",
    "count = 5\n",
    "\n",
    "while count > 0:\n",
    "    \n",
    "    print(f\"Counting down: {count}\")\n",
    "    count -= 1\n",
    "    \n"
   ]
  },
  {
   "cell_type": "markdown",
   "id": "c9e7e92a",
   "metadata": {},
   "source": [
    "## Break, Continue, and Pass Statements"
   ]
  },
  {
   "cell_type": "markdown",
   "id": "da175217",
   "metadata": {},
   "source": [
    "\n",
    "### Theory\n",
    "- **Break**: Exits the loop prematurely.\n",
    "- **Continue**: Skips the rest of the code inside the loop for the current iteration.\n",
    "- **Pass**: Does nothing and acts as a placeholder.\n"
   ]
  },
  {
   "cell_type": "code",
   "execution_count": 53,
   "id": "f77a3bef",
   "metadata": {},
   "outputs": [
    {
     "name": "stdout",
     "output_type": "stream",
     "text": [
      "1\n",
      "2\n",
      "Skipping 3\n",
      "4\n",
      "Stopping at 5\n"
     ]
    }
   ],
   "source": [
    "\n",
    "# Example: Break and Continue\n",
    "for num in range(1, 10):\n",
    "    if num == 3:\n",
    "        print(\"Skipping 3\")\n",
    "        continue\n",
    "    if num == 5:\n",
    "        print(\"Stopping at 5\")\n",
    "        break\n",
    "    print(num)\n"
   ]
  },
  {
   "cell_type": "code",
   "execution_count": 55,
   "id": "7a49cb6b",
   "metadata": {},
   "outputs": [
    {
     "name": "stdout",
     "output_type": "stream",
     "text": [
      "Current letter: P\n",
      "Current letter: y\n",
      "Current letter: t\n",
      "Current letter: h\n",
      "Current letter: o\n",
      "Current letter: n\n"
     ]
    }
   ],
   "source": [
    "\n",
    "# Example: Pass Statement\n",
    "for letter in \"Python\":\n",
    "    if letter == \"h\":\n",
    "        pass  # Placeholder\n",
    "    print(f\"Current letter: {letter}\")\n"
   ]
  },
  {
   "cell_type": "markdown",
   "id": "e310abfd",
   "metadata": {},
   "source": [
    "## Ternary Operators"
   ]
  },
  {
   "cell_type": "markdown",
   "id": "b37414d1",
   "metadata": {},
   "source": [
    "\n",
    "### Theory\n",
    "- Python supports a one-liner conditional expression, often called a ternary operator.\n",
    "- Syntax: `value_if_true if condition else value_if_false`\n"
   ]
  },
  {
   "cell_type": "code",
   "execution_count": 61,
   "id": "0fc89543",
   "metadata": {},
   "outputs": [
    {
     "name": "stdin",
     "output_type": "stream",
     "text": [
      "Enter a number:  -1\n"
     ]
    },
    {
     "name": "stdout",
     "output_type": "stream",
     "text": [
      "The number is Negative or Zero.\n"
     ]
    }
   ],
   "source": [
    "\n",
    "# Example: Ternary Operator\n",
    "number = int(input(\"Enter a number: \"))\n",
    "\n",
    "result = \"Positive\" if number > 0 else \"Negative or Zero\"\n",
    "print(f\"The number is {result}.\")\n"
   ]
  },
  {
   "cell_type": "code",
   "execution_count": null,
   "id": "d5de0014-7949-420f-80d2-5d697dbe1596",
   "metadata": {},
   "outputs": [],
   "source": []
  }
 ],
 "metadata": {
  "kernelspec": {
   "display_name": "Python 3 (ipykernel)",
   "language": "python",
   "name": "python3"
  },
  "language_info": {
   "codemirror_mode": {
    "name": "ipython",
    "version": 3
   },
   "file_extension": ".py",
   "mimetype": "text/x-python",
   "name": "python",
   "nbconvert_exporter": "python",
   "pygments_lexer": "ipython3",
   "version": "3.12.7"
  }
 },
 "nbformat": 4,
 "nbformat_minor": 5
}
