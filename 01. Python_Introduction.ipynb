{
 "cells": [
  {
   "cell_type": "markdown",
   "id": "4ec00223-17f1-4481-aaa2-eb15e6f63696",
   "metadata": {},
   "source": [
    "# Python Programming: Introduction"
   ]
  },
  {
   "cell_type": "markdown",
   "id": "1d996ff1-38b2-44bc-a42d-c1682746b674",
   "metadata": {},
   "source": [
    "# Installing Python and Setting PATH on Windows, Linux, and macOS\n",
    "\n",
    "This Jupyter Notebook will guide you through the steps to:\n",
    "1. Install Python on **Windows**, **Linux**, and **macOS**.\n",
    "2. Properly set your PATH environment variable (if needed) so you can run Python from the terminal or command prompt.\n",
    "3. Verify the installation by checking the Python version and running a quick test in a code cell.\n"
   ]
  },
  {
   "cell_type": "markdown",
   "id": "5fd1dfeb",
   "metadata": {},
   "source": [
    "## 1. Installing Python on Windows\n",
    "\n",
    "**Step 1.1: Download the Installer**  \n",
    "- Go to the official [Python downloads page](https://www.python.org/downloads/).  \n",
    "- Choose the latest stable release of Python (e.g., Python 3.x.x) for Windows.  \n",
    "- Download the *Windows installer* (usually named something like `python-3.x.x-amd64.exe`).\n",
    "\n",
    "**Step 1.2: Run the Installer**  \n",
    "- Double-click on the downloaded `.exe` file.\n",
    "- **Important**: On the first installer screen, check the box that says **“Add Python 3.x to PATH”**.  \n",
    "- Click **Install Now** (or **Customize installation** if you want different options).  \n",
    "- Wait for the installation to complete.\n",
    "\n",
    "**Step 1.3: Verifying the PATH**  \n",
    "- If you selected “Add Python 3.x to PATH” during the installation, Python should automatically be on your PATH.  \n",
    "- You can verify this by opening **Command Prompt** (Windows + R, then type `cmd`, press Enter) and typing:\n",
    "  ```\n",
    "  python --version\n",
    "  ```\n",
    "- If Python is recognized and displays the version, your PATH is set correctly.\n",
    "\n",
    "**Step 1.4: Manually Setting PATH (If Needed)**  \n",
    "- If you did not check \"Add Python 3.x to PATH\" during installation, you can set it manually.\n",
    "- Open the **Start Menu** and search for **\"Environment Variables\"**.\n",
    "- In the **System Properties** window, click **Environment Variables...**.\n",
    "- Under **User variables** (or **System variables**), find the variable named `Path`. Select it, then click **Edit**.\n",
    "- Add the folder path where Python is installed (e.g. `C:\\Users\\YourName\\AppData\\Local\\Programs\\Python\\Python39\\`) to the list.\n",
    "- Click **OK** to save.\n"
   ]
  },
  {
   "cell_type": "markdown",
   "id": "75509f20-b425-4b9a-a2fb-e4e53e049faa",
   "metadata": {},
   "source": [
    "## 2. Installing Python on Linux\n",
    "\n",
    "Depending on your Linux distribution, Python 3 may be pre-installed. Many distributions come with Python 3 out of the box, but you can verify and install if needed.\n",
    "\n",
    "**Step 2.1: Check if Python is already installed**  \n",
    "- Open your terminal.\n",
    "- Type:\n",
    "  ```\n",
    "  python3 --version\n",
    "  ```\n",
    "- If you see a version (e.g., `Python 3.8.10`), Python 3 is already installed.\n",
    "\n",
    "**Step 2.2: Install Python using the package manager**  \n",
    "- On **Debian/Ubuntu** based systems:\n",
    "  ```bash\n",
    "  sudo apt update\n",
    "  sudo apt install python3 python3-pip\n",
    "  ```\n",
    "- On **Fedora**:\n",
    "  ```bash\n",
    "  sudo dnf install python3 python3-pip\n",
    "  ```\n",
    "- On **CentOS/RHEL**:\n",
    "  ```bash\n",
    "  sudo yum install python3 python3-pip\n",
    "  ```\n",
    "- Other distributions will have similar commands using their package managers.\n",
    "\n",
    "**Step 2.3: Verifying PATH**  \n",
    "- Typically, Linux sets up `python3` and `pip3` in `/usr/bin` or `/usr/local/bin`, which are already in the PATH by default.\n",
    "- To verify, open a new terminal session and type:\n",
    "  ```\n",
    "  python3 --version\n",
    "  ```\n",
    "- If it shows a version, you’re good to go!\n",
    "\n",
    "**Step 2.4: Manually Setting PATH (If Needed)**  \n",
    "- If you installed Python to a custom location or want to use a different Python installation, you can add it to your PATH manually.\n",
    "- Edit your shell configuration file (e.g., `~/.bashrc`, `~/.zshrc`) and append something like:\n",
    "  ```bash\n",
    "  export PATH=\"/path/to/python:$PATH\"\n",
    "  ```\n",
    "- Then, reload your shell:\n",
    "  ```bash\n",
    "  source ~/.bashrc\n",
    "  ```\n",
    "- Test again with `python3 --version`.\n"
   ]
  },
  {
   "cell_type": "markdown",
   "id": "2eda7adf-767f-43ee-8d70-74b6914423c4",
   "metadata": {},
   "source": [
    "## 3. Installing Python on macOS\n",
    "\n",
    "macOS comes with an older version of Python 2.x pre-installed, but you’ll typically want to install a modern Python 3.\n",
    "\n",
    "**Step 3.1: Using the Official Installer**  \n",
    "- Go to the [Python downloads page](https://www.python.org/downloads/).\n",
    "- Download the **macOS 64-bit installer** (`.pkg` file).\n",
    "- Double-click the `.pkg` file and follow the installation steps.\n",
    "- By default, Python is usually installed to `/Library/Frameworks/Python.framework/Versions/3.x/bin/`. This path is typically added to your PATH automatically, but you can verify.\n",
    "\n",
    "**Step 3.2: Using Homebrew (Alternative Method)**  \n",
    "- If you have [Homebrew](https://brew.sh/) installed, you can simply run:\n",
    "  ```bash\n",
    "  brew update\n",
    "  brew install python\n",
    "  ```\n",
    "- This will place `python3` in a directory like `/usr/local/bin/` or `/opt/homebrew/bin/` (on Apple Silicon) which should already be on your PATH.\n",
    "\n",
    "**Step 3.3: Verifying PATH**  \n",
    "- Open Terminal and type:\n",
    "  ```\n",
    "  python3 --version\n",
    "  ```\n",
    "- If you see something like `Python 3.9.x` or `Python 3.10.x`, then Python is installed and on PATH.\n",
    "\n",
    "**Step 3.4: Manually Setting PATH (If Needed)**  \n",
    "- If `python3 --version` doesn’t work, find the installation location:\n",
    "  ```bash\n",
    "  which python3\n",
    "  ```\n",
    "- If the above command returns a path, make sure that path is included in your shell configuration file (e.g., `~/.zshrc` or `~/.bash_profile`). For example:\n",
    "  ```bash\n",
    "  export PATH=\"/Library/Frameworks/Python.framework/Versions/3.x/bin:$PATH\"\n",
    "  ```\n",
    "- Save and reload your shell by running `source ~/.zshrc` or `source ~/.bash_profile`.\n"
   ]
  },
  {
   "cell_type": "markdown",
   "id": "11ed2be1-4bbd-430f-aaf9-6b70b6a02091",
   "metadata": {},
   "source": [
    "## 4. Verifying Your Python Installation in Jupyter\n",
    "\n",
    "Now that you have installed Python on your system (and set PATH if needed), let’s verify inside a Jupyter Notebook.\n",
    "\n",
    "Below, we’ll run some code in Python to confirm everything is working correctly."
   ]
  },
  {
   "cell_type": "code",
   "execution_count": 53,
   "id": "3f5203c8",
   "metadata": {},
   "outputs": [
    {
     "name": "stdout",
     "output_type": "stream",
     "text": [
      "Python 3.12.7\n"
     ]
    }
   ],
   "source": [
    "# Check Python version\n",
    "!python --version"
   ]
  },
  {
   "cell_type": "code",
   "execution_count": 55,
   "id": "0c643287-f703-405d-8756-d7516879e24f",
   "metadata": {
    "scrolled": true
   },
   "outputs": [
    {
     "name": "stdout",
     "output_type": "stream",
     "text": [
      "Hello, World!\n"
     ]
    }
   ],
   "source": [
    "print(\"Hello, World!\")"
   ]
  },
  {
   "cell_type": "code",
   "execution_count": 57,
   "id": "ba4082f9-7ba5-4814-bbdf-6dfde0c9df39",
   "metadata": {},
   "outputs": [
    {
     "name": "stdout",
     "output_type": "stream",
     "text": [
      "Requirement already satisfied: numpy in c:\\users\\hp\\anaconda3\\lib\\site-packages (1.26.4)\n"
     ]
    }
   ],
   "source": [
    "# Install pip and a package (example)\n",
    "!pip install numpy"
   ]
  },
  {
   "cell_type": "markdown",
   "id": "fba6b141",
   "metadata": {},
   "source": [
    "## Python IDEs"
   ]
  },
  {
   "cell_type": "markdown",
   "id": "103d8706",
   "metadata": {},
   "source": [
    "- **Jupyter Notebook**: Ideal for interactive coding, data science, and visualization.\n",
    "- **PyCharm**: A full-featured IDE suited for larger projects.\n",
    "- **VS Code**: Lightweight editor with extensive extensions, including Python."
   ]
  },
  {
   "cell_type": "markdown",
   "id": "9a5c481d",
   "metadata": {},
   "source": [
    "## Syntax and Semantics"
   ]
  },
  {
   "cell_type": "code",
   "execution_count": 65,
   "id": "4553b503",
   "metadata": {},
   "outputs": [
    {
     "name": "stdout",
     "output_type": "stream",
     "text": [
      "Iteration 0\n",
      "Iteration 1\n",
      "Iteration 2\n",
      "Iteration 3\n",
      "Iteration 4\n",
      "Iteration 5\n",
      "Iteration 6\n"
     ]
    }
   ],
   "source": [
    "for i in range(7):\n",
    "    print(f\"Iteration {i}\")"
   ]
  },
  {
   "cell_type": "markdown",
   "id": "f0f6e2a8",
   "metadata": {},
   "source": [
    "## Comments and Docstrings"
   ]
  },
  {
   "cell_type": "code",
   "execution_count": null,
   "id": "81281197",
   "metadata": {},
   "outputs": [],
   "source": [
    "# Single-line comment\n",
    "print(\"Hello, Python!\")  # This prints a message\n",
    "\n",
    "\"\"\"\n",
    "Multi-line docstring:\n",
    "Use for documentation of functions, classes, or modules.\n",
    "\"\"\"\n",
    "\n",
    "def greet(name):\n",
    "    \"\"\"Greet a person with their name.\"\"\"\n",
    "    return f\"Hello, {name}!\"\n",
    "\n",
    "print(greet(\"World\"))\n"
   ]
  },
  {
   "cell_type": "markdown",
   "id": "107258f2-142b-42e9-a710-b8db8cb17463",
   "metadata": {},
   "source": [
    "- **Docstrings can be further broken up into three major categories:** \n",
    "- **Class Docstrings:** Class and class methods. \n",
    "- **Package and Module Docstrings:** Package, modules, and functions. \n",
    "- **Script Docstrings:** Script and functions. "
   ]
  },
  {
   "cell_type": "markdown",
   "id": "1da02515",
   "metadata": {},
   "source": [
    "## Variables and Data Types"
   ]
  },
  {
   "cell_type": "code",
   "execution_count": 71,
   "id": "15e76ca0",
   "metadata": {},
   "outputs": [
    {
     "name": "stdout",
     "output_type": "stream",
     "text": [
      "<class 'str'> <class 'float'> <class 'str'> <class 'bool'>\n"
     ]
    }
   ],
   "source": [
    "# Variables are dynamically typed in Python\n",
    "x = \"42\"          # Integer\n",
    "pi = 3.14159    # Float\n",
    "name = \"Python\"  # String\n",
    "is_fun = True   # Boolean\n",
    "\n",
    "# Check variable types\n",
    "print(type(x), type(pi), type(name), type(is_fun))\n"
   ]
  },
  {
   "cell_type": "markdown",
   "id": "971c2224",
   "metadata": {},
   "source": [
    "## Input and Output"
   ]
  },
  {
   "cell_type": "code",
   "execution_count": 69,
   "id": "981fbf3d",
   "metadata": {},
   "outputs": [
    {
     "name": "stdin",
     "output_type": "stream",
     "text": [
      "Enter your name:  Rahul\n"
     ]
    },
    {
     "name": "stdout",
     "output_type": "stream",
     "text": [
      "Hello, Rahul!\n"
     ]
    }
   ],
   "source": [
    "# Input from user\n",
    "user_name = input(\"Enter your name: \")  # Takes string input\n",
    "print(f\"Hello, {user_name}!\")  # Display output with f-string\n"
   ]
  },
  {
   "cell_type": "markdown",
   "id": "c41e72d6",
   "metadata": {},
   "source": [
    "## Type Casting"
   ]
  },
  {
   "cell_type": "code",
   "execution_count": 77,
   "id": "195054e8-989f-4a28-8925-991da941f33c",
   "metadata": {},
   "outputs": [
    {
     "name": "stdout",
     "output_type": "stream",
     "text": [
      "String to Integer: 123 (type: <class 'str'>)\n"
     ]
    }
   ],
   "source": [
    "# Type Casting Examples\n",
    "\n",
    "# Converting string to integer\n",
    "num_str = \"123\"  # This is a string\n",
    "#num = int(num_str)  # Convert string to integer\n",
    "print(f\"String to Integer: {num_str} (type: {type(num_str)})\")\n"
   ]
  },
  {
   "cell_type": "code",
   "execution_count": 79,
   "id": "d68d5769-cc76-48e7-85ec-bd31edbe467a",
   "metadata": {},
   "outputs": [
    {
     "name": "stdout",
     "output_type": "stream",
     "text": [
      "<class 'float'>\n",
      "Float to Integer: 3 (type: <class 'int'>)\n"
     ]
    }
   ],
   "source": [
    "\n",
    "# Converting float to integer\n",
    "pi = 3.14159  # This is a float\n",
    "print(type(pi))\n",
    "pi_as_int = int(pi)  # Convert float to integer (truncates decimal part)\n",
    "print(f\"Float to Integer: {pi_as_int} (type: {type(pi_as_int)})\")"
   ]
  },
  {
   "cell_type": "code",
   "execution_count": null,
   "id": "917a4428-0692-45b5-a06d-dde041296759",
   "metadata": {},
   "outputs": [],
   "source": []
  }
 ],
 "metadata": {
  "kernelspec": {
   "display_name": "Python 3 (ipykernel)",
   "language": "python",
   "name": "python3"
  },
  "language_info": {
   "codemirror_mode": {
    "name": "ipython",
    "version": 3
   },
   "file_extension": ".py",
   "mimetype": "text/x-python",
   "name": "python",
   "nbconvert_exporter": "python",
   "pygments_lexer": "ipython3",
   "version": "3.12.7"
  }
 },
 "nbformat": 4,
 "nbformat_minor": 5
}
