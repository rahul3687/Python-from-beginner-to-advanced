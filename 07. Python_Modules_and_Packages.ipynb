{
 "cells": [
  {
   "cell_type": "markdown",
   "id": "7c5e68d6",
   "metadata": {},
   "source": [
    "# Python Modules and Packages"
   ]
  },
  {
   "cell_type": "markdown",
   "id": "ca6ea087",
   "metadata": {},
   "source": [
    "\n",
    "Modules and packages in Python provide a way to organize and reuse code effectively. They enable modular programming, which improves readability, maintainability, and scalability.\n",
    "\n",
    "This notebook covers the following topics:\n",
    "1. Built-in Modules\n",
    "2. Creating and Importing Modules\n",
    "3. Python Packages\n",
    "4. `__init__.py`\n",
    "5. Third-party Libraries (using pip)\n",
    "    "
   ]
  },
  {
   "cell_type": "markdown",
   "id": "3dd0b75c",
   "metadata": {},
   "source": [
    "## Built-in Modules"
   ]
  },
  {
   "cell_type": "markdown",
   "id": "e522deda",
   "metadata": {},
   "source": [
    "\n",
    "### Theory\n",
    "- Python includes a standard library of built-in modules that provide various functionalities.\n",
    "- Common built-in modules:\n",
    "  - `math`: Mathematical functions.\n",
    "  - `os`: Operating system interfaces.\n",
    "  - `sys`: System-specific parameters and functions.\n",
    "  - `datetime`: Date and time manipulation.\n",
    "  - `random`: Random number generation.\n",
    "\n",
    "#### Importing Modules\n",
    "- Use the `import` keyword to include a module in your code.\n",
    "- Use `from module import name` to import specific functions or classes.\n"
   ]
  },
  {
   "cell_type": "code",
   "execution_count": null,
   "id": "72dc97bd",
   "metadata": {},
   "outputs": [],
   "source": [
    "\n",
    "# Example: Using Built-in Modules\n",
    "import math\n",
    "\n",
    "print(\"Square root of 16:\", math.sqrt(16))\n",
    "print(\"Pi constant:\", math.pi)\n"
   ]
  },
  {
   "cell_type": "markdown",
   "id": "30ccfd42",
   "metadata": {},
   "source": [
    "## Creating and Importing Modules"
   ]
  },
  {
   "cell_type": "markdown",
   "id": "4679c73f",
   "metadata": {},
   "source": [
    "\n",
    "### Theory\n",
    "- A module is simply a Python file (`.py`) that contains functions, classes, or variables.\n",
    "- You can create your own module and import it into another script or program.\n",
    "\n",
    "#### Steps to Create and Use a Module\n",
    "1. Create a Python file with some functions, e.g., `my_module.py`.\n",
    "2. Import the module into another script using `import module_name`.\n",
    "\n",
    "#### Example:\n",
    "Create a module `my_module.py`:\n",
    "```python\n",
    "def greet(name):\n",
    "    return f\"Hello, {name}!\"\n",
    "```\n",
    "\n",
    "Import and use the module:\n",
    "```python\n",
    "import my_module\n",
    "print(my_module.greet(\"Alice\"))\n",
    "```\n"
   ]
  },
  {
   "cell_type": "code",
   "execution_count": null,
   "id": "e032fd67",
   "metadata": {},
   "outputs": [],
   "source": [
    "\n",
    "# Example: Creating and Importing Modules\n",
    "# Save this code in a file named 'my_module.py':\n",
    "# def greet(name):\n",
    "#     return f\"Hello, {name}!\"\n",
    "\n",
    "# Importing the module (assuming 'my_module.py' is in the same directory)\n",
    "# import my_module\n",
    "# print(my_module.greet(\"Alice\"))\n"
   ]
  },
  {
   "cell_type": "markdown",
   "id": "eb4ab344",
   "metadata": {},
   "source": [
    "## Python Packages"
   ]
  },
  {
   "cell_type": "markdown",
   "id": "afe936d7",
   "metadata": {},
   "source": [
    "\n",
    "### Theory\n",
    "- A package is a collection of modules organized in directories with an optional `__init__.py` file.\n",
    "- Packages allow hierarchical organization of modules.\n",
    "- Example structure:\n",
    "```\n",
    "my_package/\n",
    "    __init__.py\n",
    "    module1.py\n",
    "    module2.py\n",
    "```\n",
    "\n",
    "#### Importing from a Package\n",
    "```python\n",
    "from my_package import module1\n",
    "```\n",
    "\n",
    "#### `__init__.py`\n",
    "- Used to initialize a Python package.\n",
    "- Can include initialization code or leave it empty.\n"
   ]
  },
  {
   "cell_type": "code",
   "execution_count": null,
   "id": "e7897184",
   "metadata": {},
   "outputs": [],
   "source": [
    "\n",
    "# Example: Package Structure\n",
    "# Directory structure:\n",
    "# my_package/\n",
    "# ├── __init__.py\n",
    "# ├── module1.py\n",
    "# └── module2.py\n",
    "\n",
    "# Assuming 'my_package/module1.py' contains:\n",
    "# def add(a, b):\n",
    "#     return a + b\n",
    "\n",
    "# Importing from the package\n",
    "# from my_package.module1 import add\n",
    "# print(add(5, 3))\n"
   ]
  },
  {
   "cell_type": "markdown",
   "id": "3df626f3",
   "metadata": {},
   "source": [
    "## Third-party Libraries (using pip)"
   ]
  },
  {
   "cell_type": "markdown",
   "id": "660dc40c",
   "metadata": {},
   "source": [
    "\n",
    "### Theory\n",
    "- Python supports external libraries that can be installed using `pip` (Python's package manager).\n",
    "- Common third-party libraries:\n",
    "  - `NumPy`: Numerical computing.\n",
    "  - `Pandas`: Data analysis and manipulation.\n",
    "  - `Matplotlib`: Data visualization.\n",
    "\n",
    "#### Installing a Library\n",
    "- Use the `pip install` command:\n",
    "```bash\n",
    "pip install library_name\n",
    "```\n",
    "\n",
    "#### Example:\n",
    "Install and use the `requests` library:\n",
    "```python\n",
    "import requests\n",
    "response = requests.get(\"https://api.github.com\")\n",
    "print(response.json())\n",
    "```\n"
   ]
  },
  {
   "cell_type": "code",
   "execution_count": null,
   "id": "03ee417f",
   "metadata": {},
   "outputs": [],
   "source": [
    "\n",
    "# Example: Using a Third-party Library (Ensure 'requests' is installed)\n",
    "# Install 'requests' library\n",
    "# !pip install requests\n",
    "\n",
    "import requests\n",
    "response = requests.get(\"https://api.github.com\")\n",
    "print(\"Response Status Code:\", response.status_code)\n"
   ]
  }
 ],
 "metadata": {
  "kernelspec": {
   "display_name": "Python 3 (ipykernel)",
   "language": "python",
   "name": "python3"
  },
  "language_info": {
   "codemirror_mode": {
    "name": "ipython",
    "version": 3
   },
   "file_extension": ".py",
   "mimetype": "text/x-python",
   "name": "python",
   "nbconvert_exporter": "python",
   "pygments_lexer": "ipython3",
   "version": "3.12.7"
  }
 },
 "nbformat": 4,
 "nbformat_minor": 5
}
