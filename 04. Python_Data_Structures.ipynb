{
 "cells": [
  {
   "cell_type": "markdown",
   "id": "40466bc7",
   "metadata": {},
   "source": [
    "# Python Data Structures"
   ]
  },
  {
   "cell_type": "markdown",
   "id": "65f002f5",
   "metadata": {},
   "source": [
    "\n",
    "Python provides several built-in data structures that allow you to store and manage data effectively. This notebook covers the following:\n",
    "\n",
    "1. Strings\n",
    "   - String Methods\n",
    "   - String Formatting\n",
    "   - Regular Expressions\n",
    "2. Lists\n",
    "   - List Comprehensions\n",
    "   - List Methods\n",
    "3. Tuples\n",
    "4. Sets\n",
    "5. Dictionaries\n",
    "   - Dictionary Comprehensions\n",
    "6. Arrays (via array module or NumPy)\n",
    "    "
   ]
  },
  {
   "cell_type": "markdown",
   "id": "741a91f8",
   "metadata": {},
   "source": [
    "## Strings"
   ]
  },
  {
   "cell_type": "markdown",
   "id": "f8d6eca2",
   "metadata": {},
   "source": [
    "\n",
    "### Theory\n",
    "- Strings are sequences of characters.\n",
    "- Strings in Python are immutable.\n",
    "- Common operations include slicing, concatenation, and iteration.\n"
   ]
  },
  {
   "cell_type": "code",
   "execution_count": null,
   "id": "fbc4969e",
   "metadata": {},
   "outputs": [],
   "source": [
    "\n",
    "# Example: Strings\n",
    "text = \"Python is fun!\"\n",
    "print(\"First character:\", text[0])  # Accessing by index\n",
    "print(\"Slice:\", text[7:9])  # Slicing\n",
    "print(\"Reversed:\", text[::-1])  # Reverse a string\n"
   ]
  },
  {
   "cell_type": "markdown",
   "id": "4c2ca8ae",
   "metadata": {},
   "source": [
    "### String Methods"
   ]
  },
  {
   "cell_type": "code",
   "execution_count": null,
   "id": "f4e85de0",
   "metadata": {},
   "outputs": [],
   "source": [
    "\n",
    "# Example: Common String Methods\n",
    "text = \"  Python is Amazing!  \"\n",
    "print(\"Lowercase:\", text.lower())\n",
    "print(\"Uppercase:\", text.upper())\n",
    "print(\"Strip:\", text.strip())\n",
    "print(\"Replace:\", text.replace(\"Python\", \"Coding\"))\n",
    "print(\"Split:\", text.split())\n"
   ]
  },
  {
   "cell_type": "markdown",
   "id": "03976a6a",
   "metadata": {},
   "source": [
    "### String Formatting"
   ]
  },
  {
   "cell_type": "code",
   "execution_count": null,
   "id": "b83c29f6",
   "metadata": {},
   "outputs": [],
   "source": [
    "\n",
    "# Example: String Formatting\n",
    "name = \"Alice\"\n",
    "age = 30\n",
    "\n",
    "# Using f-strings (preferred)\n",
    "print(f\"My name is {name} and I am {age} years old.\")\n",
    "\n",
    "# Using format()\n",
    "print(\"My name is {} and I am {} years old.\".format(name, age))\n"
   ]
  },
  {
   "cell_type": "markdown",
   "id": "19b2b554",
   "metadata": {},
   "source": [
    "### Regular Expressions"
   ]
  },
  {
   "cell_type": "code",
   "execution_count": null,
   "id": "212928d2",
   "metadata": {},
   "outputs": [],
   "source": [
    "\n",
    "# Example: Regular Expressions\n",
    "import re\n",
    "\n",
    "text = \"Contact us at support@example.com or sales@example.com.\"\n",
    "emails = re.findall(r'[a-zA-Z0-9._%+-]+@[a-zA-Z0-9.-]+\\.[a-zA-Z]{2,}', text)\n",
    "print(\"Emails found:\", emails)\n"
   ]
  },
  {
   "cell_type": "markdown",
   "id": "4a989eb0",
   "metadata": {},
   "source": [
    "## Lists"
   ]
  },
  {
   "cell_type": "markdown",
   "id": "490b088a",
   "metadata": {},
   "source": [
    "\n",
    "### Theory\n",
    "- Lists are mutable sequences of elements.\n",
    "- They can hold heterogeneous data types.\n",
    "- Common operations include indexing, slicing, and iteration.\n"
   ]
  },
  {
   "cell_type": "code",
   "execution_count": null,
   "id": "9c176d8f",
   "metadata": {},
   "outputs": [],
   "source": [
    "\n",
    "# Example: Lists\n",
    "fruits = [\"apple\", \"banana\", \"cherry\"]\n",
    "print(\"Original list:\", fruits)\n",
    "fruits.append(\"date\")  # Add an element\n",
    "print(\"After append:\", fruits)\n",
    "fruits.remove(\"banana\")  # Remove an element\n",
    "print(\"After remove:\", fruits)\n"
   ]
  },
  {
   "cell_type": "markdown",
   "id": "0f1a04dc",
   "metadata": {},
   "source": [
    "### List Comprehensions"
   ]
  },
  {
   "cell_type": "code",
   "execution_count": null,
   "id": "01924c85",
   "metadata": {},
   "outputs": [],
   "source": [
    "\n",
    "# Example: List Comprehensions\n",
    "numbers = [1, 2, 3, 4, 5]\n",
    "squared = [x**2 for x in numbers]  # Square each number\n",
    "print(\"Squared numbers:\", squared)\n"
   ]
  },
  {
   "cell_type": "markdown",
   "id": "c4bf1307",
   "metadata": {},
   "source": [
    "### List Methods"
   ]
  },
  {
   "cell_type": "code",
   "execution_count": null,
   "id": "45db42d1",
   "metadata": {},
   "outputs": [],
   "source": [
    "\n",
    "# Example: Common List Methods\n",
    "numbers = [10, 20, 30, 40, 50]\n",
    "print(\"Index of 30:\", numbers.index(30))  # Find index\n",
    "numbers.reverse()\n",
    "print(\"Reversed list:\", numbers)\n",
    "numbers.sort()\n",
    "print(\"Sorted list:\", numbers)\n"
   ]
  },
  {
   "cell_type": "markdown",
   "id": "1e0147ce",
   "metadata": {},
   "source": [
    "## Tuples"
   ]
  },
  {
   "cell_type": "markdown",
   "id": "26b1a2c3",
   "metadata": {},
   "source": [
    "\n",
    "### Theory\n",
    "- Tuples are immutable sequences of elements.\n",
    "- Use cases include storing fixed collections of data.\n"
   ]
  },
  {
   "cell_type": "code",
   "execution_count": null,
   "id": "deb33b7a",
   "metadata": {},
   "outputs": [],
   "source": [
    "\n",
    "# Example: Tuples\n",
    "person = (\"Alice\", 30, \"Engineer\")\n",
    "print(\"Name:\", person[0])\n",
    "print(\"Age:\", person[1])\n",
    "print(\"Reversed tuple:\", person[::-1])\n"
   ]
  },
  {
   "cell_type": "markdown",
   "id": "21faa2fa",
   "metadata": {},
   "source": [
    "## Sets"
   ]
  },
  {
   "cell_type": "markdown",
   "id": "ed23ef20",
   "metadata": {},
   "source": [
    "\n",
    "### Theory\n",
    "- Sets are unordered collections of unique elements.\n",
    "- Useful for eliminating duplicates and performing set operations like union and intersection.\n"
   ]
  },
  {
   "cell_type": "code",
   "execution_count": null,
   "id": "588c0671",
   "metadata": {},
   "outputs": [],
   "source": [
    "\n",
    "# Example: Sets\n",
    "a = {1, 2, 3}\n",
    "b = {3, 4, 5}\n",
    "print(\"Union:\", a | b)\n",
    "print(\"Intersection:\", a & b)\n",
    "print(\"Difference:\", a - b)\n"
   ]
  },
  {
   "cell_type": "markdown",
   "id": "a244d856",
   "metadata": {},
   "source": [
    "## Dictionaries"
   ]
  },
  {
   "cell_type": "markdown",
   "id": "be09b528",
   "metadata": {},
   "source": [
    "\n",
    "### Theory\n",
    "- Dictionaries store key-value pairs.\n",
    "- Keys must be unique and immutable.\n",
    "- Values can be any data type.\n"
   ]
  },
  {
   "cell_type": "code",
   "execution_count": null,
   "id": "733aad97",
   "metadata": {},
   "outputs": [],
   "source": [
    "\n",
    "# Example: Dictionaries\n",
    "person = {\"name\": \"Alice\", \"age\": 30, \"profession\": \"Engineer\"}\n",
    "print(\"Name:\", person[\"name\"])\n",
    "person[\"age\"] = 31  # Update value\n",
    "print(\"Updated age:\", person[\"age\"])\n"
   ]
  },
  {
   "cell_type": "markdown",
   "id": "b7507878",
   "metadata": {},
   "source": [
    "### Dictionary Comprehensions"
   ]
  },
  {
   "cell_type": "code",
   "execution_count": null,
   "id": "92438f16",
   "metadata": {},
   "outputs": [],
   "source": [
    "\n",
    "# Example: Dictionary Comprehensions\n",
    "numbers = [1, 2, 3, 4, 5]\n",
    "squared = {x: x**2 for x in numbers}  # Create a dictionary of squares\n",
    "print(\"Squared dictionary:\", squared)\n"
   ]
  },
  {
   "cell_type": "markdown",
   "id": "355e7a15",
   "metadata": {},
   "source": [
    "## Arrays"
   ]
  },
  {
   "cell_type": "markdown",
   "id": "93c4ef6b",
   "metadata": {},
   "source": [
    "\n",
    "### Theory\n",
    "- Arrays are collections of elements of the same type.\n",
    "- Python provides the `array` module and NumPy library for working with arrays.\n"
   ]
  },
  {
   "cell_type": "code",
   "execution_count": null,
   "id": "fc2f2c03",
   "metadata": {},
   "outputs": [],
   "source": [
    "\n",
    "# Example: Arrays using array module\n",
    "from array import array\n",
    "\n",
    "nums = array('i', [1, 2, 3, 4])  # 'i' represents integer type\n",
    "nums.append(5)\n",
    "print(\"Array:\", nums)\n"
   ]
  },
  {
   "cell_type": "code",
   "execution_count": null,
   "id": "f22c6f3f",
   "metadata": {},
   "outputs": [],
   "source": [
    "\n",
    "# Example: Arrays using NumPy\n",
    "import numpy as np\n",
    "\n",
    "nums = np.array([1, 2, 3, 4])\n",
    "nums = nums * 2  # Element-wise operations\n",
    "print(\"NumPy Array:\", nums)\n"
   ]
  }
 ],
 "metadata": {
  "kernelspec": {
   "display_name": "Python 3 (ipykernel)",
   "language": "python",
   "name": "python3"
  },
  "language_info": {
   "codemirror_mode": {
    "name": "ipython",
    "version": 3
   },
   "file_extension": ".py",
   "mimetype": "text/x-python",
   "name": "python",
   "nbconvert_exporter": "python",
   "pygments_lexer": "ipython3",
   "version": "3.12.7"
  }
 },
 "nbformat": 4,
 "nbformat_minor": 5
}
