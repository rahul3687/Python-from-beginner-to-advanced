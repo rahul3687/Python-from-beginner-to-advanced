{
 "cells": [
  {
   "cell_type": "markdown",
   "id": "676acec9",
   "metadata": {},
   "source": [
    "# Python Libraries and Frameworks"
   ]
  },
  {
   "cell_type": "markdown",
   "id": "d742e9f3",
   "metadata": {},
   "source": [
    "\n",
    "Python provides a wide range of libraries and frameworks that cater to different domains such as numerical computing, data manipulation, machine learning, web development, and more. This notebook explores some of the most popular Python libraries and frameworks in detail.\n",
    "\n",
    "## Topics Covered:\n",
    "1. NumPy (Numerical Computing)\n",
    "2. Pandas (Data Manipulation)\n",
    "3. Matplotlib and Seaborn (Data Visualization)\n",
    "4. Scikit-learn (Machine Learning)\n",
    "5. TensorFlow and PyTorch (Deep Learning)\n",
    "6. Flask and Django (Web Development)\n",
    "7. Beautiful Soup and Scrapy (Web Scraping)\n",
    "8. OpenCV (Computer Vision)\n",
    "9. Pytest and Unittest (Testing)\n",
    "10. SQLAlchemy (Database Interaction)\n",
    "    "
   ]
  },
  {
   "cell_type": "markdown",
   "id": "cee66303",
   "metadata": {},
   "source": [
    "## 1. NumPy (Numerical Computing)"
   ]
  },
  {
   "cell_type": "markdown",
   "id": "c4a59986",
   "metadata": {},
   "source": [
    "\n",
    "### Overview\n",
    "- NumPy is a powerful library for numerical computations in Python.\n",
    "- It provides support for multi-dimensional arrays, linear algebra, Fourier transforms, and random number generation.\n",
    "\n",
    "#### Key Features:\n",
    "- High-performance arrays (`ndarray`).\n",
    "- Broadcasting for operations between arrays of different shapes.\n",
    "- Built-in mathematical functions for efficient calculations.\n"
   ]
  },
  {
   "cell_type": "code",
   "execution_count": null,
   "id": "0e019c56",
   "metadata": {},
   "outputs": [],
   "source": [
    "\n",
    "import numpy as np\n",
    "\n",
    "# Create a NumPy array\n",
    "arr = np.array([1, 2, 3, 4, 5])\n",
    "print(\"Array:\", arr)\n",
    "\n",
    "# Array operations\n",
    "print(\"Mean:\", np.mean(arr))\n",
    "print(\"Standard Deviation:\", np.std(arr))\n",
    "print(\"Reshaped Array:\", arr.reshape(1, 5))\n"
   ]
  },
  {
   "cell_type": "markdown",
   "id": "19952b35",
   "metadata": {},
   "source": [
    "## 2. Pandas (Data Manipulation)"
   ]
  },
  {
   "cell_type": "markdown",
   "id": "61dcea3f",
   "metadata": {},
   "source": [
    "\n",
    "### Overview\n",
    "- Pandas is a library for data analysis and manipulation.\n",
    "- Provides two primary data structures:\n",
    "  - `Series`: 1-dimensional labeled array.\n",
    "  - `DataFrame`: 2-dimensional labeled array.\n",
    "\n",
    "#### Key Features:\n",
    "- Data cleaning and preprocessing.\n",
    "- Handling missing data.\n",
    "- Grouping, merging, and reshaping data.\n"
   ]
  },
  {
   "cell_type": "code",
   "execution_count": null,
   "id": "376fcc8d",
   "metadata": {},
   "outputs": [],
   "source": [
    "\n",
    "import pandas as pd\n",
    "\n",
    "# Create a DataFrame\n",
    "data = {'Name': ['Alice', 'Bob', 'Charlie'],\n",
    "        'Age': [25, 30, 35],\n",
    "        'Salary': [50000, 60000, 70000]}\n",
    "df = pd.DataFrame(data)\n",
    "print(\"DataFrame:\\n\", df)\n",
    "\n",
    "# Basic operations\n",
    "print(\"Mean Age:\", df['Age'].mean())\n",
    "print(\"Filtered DataFrame:\\n\", df[df['Salary'] > 55000])\n"
   ]
  },
  {
   "cell_type": "markdown",
   "id": "6fc68ccb",
   "metadata": {},
   "source": [
    "## 3. Matplotlib and Seaborn (Data Visualization)"
   ]
  },
  {
   "cell_type": "markdown",
   "id": "e8dfe8a4",
   "metadata": {},
   "source": [
    "\n",
    "### Overview\n",
    "- **Matplotlib** is a library for creating static, animated, and interactive visualizations.\n",
    "- **Seaborn** builds on Matplotlib to provide a high-level interface for statistical graphics.\n",
    "\n",
    "#### Key Features:\n",
    "- Line plots, scatter plots, bar plots (Matplotlib).\n",
    "- Heatmaps, violin plots, and pair plots (Seaborn).\n"
   ]
  },
  {
   "cell_type": "code",
   "execution_count": null,
   "id": "11f19713",
   "metadata": {},
   "outputs": [],
   "source": [
    "\n",
    "import matplotlib.pyplot as plt\n",
    "import seaborn as sns\n",
    "\n",
    "# Line plot with Matplotlib\n",
    "plt.plot([1, 2, 3, 4], [10, 20, 25, 30], label='Line')\n",
    "plt.title(\"Line Plot\")\n",
    "plt.legend()\n",
    "plt.show()\n",
    "\n",
    "# Pair plot with Seaborn\n",
    "sns.set(style=\"ticks\")\n",
    "iris = sns.load_dataset(\"iris\")\n",
    "sns.pairplot(iris, hue=\"species\")\n",
    "plt.show()\n"
   ]
  },
  {
   "cell_type": "markdown",
   "id": "7714aca0",
   "metadata": {},
   "source": [
    "## 4. Scikit-learn (Machine Learning)"
   ]
  },
  {
   "cell_type": "markdown",
   "id": "6703b531",
   "metadata": {},
   "source": [
    "\n",
    "### Overview\n",
    "- Scikit-learn is a library for machine learning in Python.\n",
    "- Provides tools for classification, regression, clustering, and dimensionality reduction.\n",
    "\n",
    "#### Key Features:\n",
    "- Easy-to-use API for machine learning tasks.\n",
    "- Support for model evaluation and hyperparameter tuning.\n"
   ]
  },
  {
   "cell_type": "code",
   "execution_count": null,
   "id": "d773830c",
   "metadata": {},
   "outputs": [],
   "source": [
    "\n",
    "from sklearn.datasets import load_iris\n",
    "from sklearn.model_selection import train_test_split\n",
    "from sklearn.ensemble import RandomForestClassifier\n",
    "\n",
    "# Load dataset\n",
    "iris = load_iris()\n",
    "X_train, X_test, y_train, y_test = train_test_split(iris.data, iris.target, test_size=0.2, random_state=42)\n",
    "\n",
    "# Train a Random Forest Classifier\n",
    "clf = RandomForestClassifier()\n",
    "clf.fit(X_train, y_train)\n",
    "print(\"Model Accuracy:\", clf.score(X_test, y_test))\n"
   ]
  },
  {
   "cell_type": "markdown",
   "id": "d297f536",
   "metadata": {},
   "source": [
    "## 5. TensorFlow and PyTorch (Deep Learning)"
   ]
  },
  {
   "cell_type": "markdown",
   "id": "2d1f6fea",
   "metadata": {},
   "source": [
    "\n",
    "### Overview\n",
    "- **TensorFlow**: Open-source library for deep learning and numerical computation.\n",
    "- **PyTorch**: Flexible library for machine learning, with strong support for dynamic computation graphs.\n",
    "\n",
    "#### Key Features:\n",
    "- Tensor operations.\n",
    "- Model training and evaluation.\n",
    "- Support for GPU acceleration.\n"
   ]
  },
  {
   "cell_type": "code",
   "execution_count": null,
   "id": "beca97c5",
   "metadata": {},
   "outputs": [],
   "source": [
    "\n",
    "import tensorflow as tf\n",
    "\n",
    "# TensorFlow example\n",
    "a = tf.constant(2)\n",
    "b = tf.constant(3)\n",
    "print(\"TensorFlow Addition:\", tf.add(a, b))\n",
    "\n",
    "import torch\n",
    "\n",
    "# PyTorch example\n",
    "x = torch.tensor([1, 2, 3], dtype=torch.float32)\n",
    "print(\"PyTorch Tensor:\", x)\n"
   ]
  },
  {
   "cell_type": "markdown",
   "id": "c7ebc542",
   "metadata": {},
   "source": [
    "## 6. Flask and Django (Web Development)"
   ]
  },
  {
   "cell_type": "markdown",
   "id": "9d6ebabb",
   "metadata": {},
   "source": [
    "\n",
    "### Overview\n",
    "- **Flask**: Lightweight web framework for building small to medium-sized applications.\n",
    "- **Django**: Full-stack web framework for large-scale web applications.\n",
    "\n",
    "#### Key Features:\n",
    "- Flask: Minimalistic and extensible.\n",
    "- Django: Built-in features like authentication, ORM, and admin interface.\n"
   ]
  },
  {
   "cell_type": "code",
   "execution_count": null,
   "id": "46b7e2f9",
   "metadata": {},
   "outputs": [],
   "source": [
    "\n",
    "# Flask example\n",
    "# from flask import Flask\n",
    "# app = Flask(__name__)\n",
    "#\n",
    "# @app.route('/')\n",
    "# def home():\n",
    "#     return \"Hello, Flask!\"\n",
    "#\n",
    "# if __name__ == \"__main__\":\n",
    "#     app.run(debug=True)\n"
   ]
  },
  {
   "cell_type": "markdown",
   "id": "86225d7e-ff12-4a0d-bfc2-32f38f82ee92",
   "metadata": {},
   "source": [
    "## 7. Beautiful Soup and Scrapy (Web Scraping)"
   ]
  },
  {
   "cell_type": "markdown",
   "id": "fdfb3abc-c610-42a8-9b78-3b86e8737b44",
   "metadata": {},
   "source": [
    "\n",
    "### Overview\n",
    "- **Beautiful Soup**: A library used to scrape information from web pages and parse HTML/XML documents.\n",
    "- **Scrapy**: A powerful web scraping framework for large-scale scraping.\n",
    "\n",
    "#### Key Features of Beautiful Soup:\n",
    "- Easy to use for small-scale scraping.\n",
    "- Parses HTML/XML using a variety of parsers like `html.parser`, `lxml`, or `html5lib`.\n",
    "\n",
    "#### Key Features of Scrapy:\n",
    "- Asynchronous scraping for efficiency.\n",
    "- Provides a framework to structure your scraping tasks.\n",
    "\n",
    "#### Common Use Cases:\n",
    "- Extracting product details, news articles, or job postings from websites.\n"
   ]
  },
  {
   "cell_type": "code",
   "execution_count": null,
   "id": "8d42e042-f895-4f7f-a21f-8b82ddb2d74c",
   "metadata": {},
   "outputs": [],
   "source": [
    "\n",
    "# Example: Beautiful Soup\n",
    "from bs4 import BeautifulSoup\n",
    "import requests\n",
    "\n",
    "# Fetch HTML content\n",
    "url = \"https://example.com\"\n",
    "response = requests.get(url)\n",
    "soup = BeautifulSoup(response.text, \"html.parser\")\n",
    "\n",
    "# Extract title\n",
    "title = soup.title.string\n",
    "print(\"Page Title:\", title)\n",
    "\n",
    "# Extract all links\n",
    "links = soup.find_all(\"a\")\n",
    "for link in links:\n",
    "    print(\"Link:\", link.get(\"href\"))"
   ]
  },
  {
   "cell_type": "code",
   "execution_count": null,
   "id": "c7755e96-bad1-45a0-9936-14194fb9d2fc",
   "metadata": {},
   "outputs": [],
   "source": [
    "\n",
    "# Example: Scrapy (Run this in a Scrapy project environment)\n",
    "# Create a Scrapy spider and use the following code in your spider file\n",
    "\n",
    "import scrapy\n",
    "\n",
    "class ExampleSpider(scrapy.Spider):\n",
    "    name = \"example\"\n",
    "    start_urls = [\"https://example.com\"]\n",
    "\n",
    "    def parse(self, response):\n",
    "        for link in response.css(\"a::attr(href)\").getall():\n",
    "            yield {\"link\": link}\n"
   ]
  },
  {
   "cell_type": "markdown",
   "id": "e4c4ccae-87a9-44b1-a3c6-e86b67605e72",
   "metadata": {},
   "source": [
    "## 8. OpenCV (Computer Vision)"
   ]
  },
  {
   "cell_type": "markdown",
   "id": "c9205ffc-4ca0-4b76-853d-260fe4344215",
   "metadata": {},
   "source": [
    "\n",
    "### Overview\n",
    "- **OpenCV**: A library for real-time computer vision and image processing.\n",
    "- Provides tools for tasks like object detection, image transformations, and video analysis.\n",
    "\n",
    "#### Key Features:\n",
    "- Supports image I/O, filters, and feature detection.\n",
    "- Works seamlessly with NumPy arrays.\n",
    "\n",
    "#### Common Use Cases:\n",
    "- Face detection, object tracking, and edge detection.\n"
   ]
  },
  {
   "cell_type": "code",
   "execution_count": null,
   "id": "87c06314-fb25-4b91-a041-4343cca94276",
   "metadata": {},
   "outputs": [],
   "source": [
    "\n",
    "# Example: OpenCV\n",
    "import cv2\n",
    "\n",
    "# Load an image\n",
    "image = cv2.imread(\"sample_image.jpg\")\n",
    "\n",
    "# Convert to grayscale\n",
    "gray_image = cv2.cvtColor(image, cv2.COLOR_BGR2GRAY)\n",
    "\n",
    "# Display the image (Ensure GUI support or use Jupyter widgets for visualization)\n",
    "cv2.imshow(\"Gray Image\", gray_image)\n",
    "cv2.waitKey(0)\n",
    "cv2.destroyAllWindows()\n"
   ]
  },
  {
   "cell_type": "markdown",
   "id": "ac7e88f6-0c42-454a-930f-e8868fec4242",
   "metadata": {},
   "source": [
    "## 9. Pytest and Unittest (Testing)"
   ]
  },
  {
   "cell_type": "markdown",
   "id": "31c32e6d-2679-40a8-a962-1d8ec50a3b0e",
   "metadata": {},
   "source": [
    "\n",
    "### Overview\n",
    "- **Unittest**: The built-in Python testing framework for writing and running tests.\n",
    "- **Pytest**: A third-party testing library that simplifies writing and organizing tests.\n",
    "\n",
    "#### Key Features of Pytest:\n",
    "- Supports fixtures, parameterized testing, and plugins.\n",
    "- Provides better readability and flexibility.\n",
    "\n",
    "#### Key Features of Unittest:\n",
    "- Provides test discovery, assertions, and setup/teardown mechanisms.\n",
    "\n",
    "#### Common Use Cases:\n",
    "- Automating the testing of functions, APIs, and classes.\n"
   ]
  },
  {
   "cell_type": "code",
   "execution_count": null,
   "id": "d319dc29-82cc-4700-962e-f8bbe0fa8c6c",
   "metadata": {},
   "outputs": [],
   "source": [
    "\n",
    "# Example: Unittest\n",
    "import unittest\n",
    "\n",
    "def add(a, b):\n",
    "    return a + b\n",
    "\n",
    "class TestMathOperations(unittest.TestCase):\n",
    "    def test_add(self):\n",
    "        self.assertEqual(add(2, 3), 5)\n",
    "        self.assertEqual(add(-1, 1), 0)\n",
    "\n",
    "if __name__ == \"__main__\":\n",
    "    unittest.main(argv=[''], exit=False)\n"
   ]
  },
  {
   "cell_type": "code",
   "execution_count": null,
   "id": "fecae43a-2b11-4902-ba46-81fd238bdf4f",
   "metadata": {},
   "outputs": [],
   "source": [
    "\n",
    "# Example: Pytest\n",
    "# Run this script with 'pytest' command in the terminal\n",
    "\n",
    "def add(a, b):\n",
    "    return a + b\n",
    "\n",
    "def test_add():\n",
    "    assert add(2, 3) == 5\n",
    "    assert add(-1, 1) == 0\n"
   ]
  },
  {
   "cell_type": "markdown",
   "id": "af48e055-56ab-4786-80ac-3f5d3e71ba8d",
   "metadata": {},
   "source": [
    "## 10. SQLAlchemy (Database Interaction)"
   ]
  },
  {
   "cell_type": "markdown",
   "id": "be6efd9a-ff77-42aa-acb4-a404dd788ee8",
   "metadata": {},
   "source": [
    "\n",
    "### Overview\n",
    "- **SQLAlchemy**: A Python SQL toolkit and Object-Relational Mapping (ORM) library.\n",
    "- Provides an ORM layer to interact with databases using Python objects.\n",
    "\n",
    "#### Key Features:\n",
    "- Works with multiple databases (SQLite, PostgreSQL, MySQL, etc.).\n",
    "- Allows raw SQL queries and ORM queries.\n",
    "\n",
    "#### Common Use Cases:\n",
    "- Building and querying databases for applications.\n"
   ]
  },
  {
   "cell_type": "code",
   "execution_count": null,
   "id": "f767dea9-a3a2-459e-a261-568533e69aa9",
   "metadata": {},
   "outputs": [],
   "source": [
    "\n",
    "# Example: SQLAlchemy\n",
    "from sqlalchemy import create_engine, Column, Integer, String\n",
    "from sqlalchemy.ext.declarative import declarative_base\n",
    "from sqlalchemy.orm import sessionmaker\n",
    "\n",
    "# Setup database\n",
    "Base = declarative_base()\n",
    "engine = create_engine(\"sqlite:///example.db\")\n",
    "Session = sessionmaker(bind=engine)\n",
    "session = Session()\n",
    "\n",
    "# Define a table using ORM\n",
    "class User(Base):\n",
    "    __tablename__ = \"users\"\n",
    "    id = Column(Integer, primary_key=True)\n",
    "    name = Column(String)\n",
    "    age = Column(Integer)\n",
    "\n",
    "# Create tables\n",
    "Base.metadata.create_all(engine)\n",
    "\n",
    "# Add a user\n",
    "new_user = User(name=\"Alice\", age=30)\n",
    "session.add(new_user)\n",
    "session.commit()\n",
    "\n",
    "# Query the database\n",
    "users = session.query(User).all()\n",
    "for user in users:\n",
    "    print(user.name, user.age)\n"
   ]
  }
 ],
 "metadata": {
  "kernelspec": {
   "display_name": "Python 3 (ipykernel)",
   "language": "python",
   "name": "python3"
  },
  "language_info": {
   "codemirror_mode": {
    "name": "ipython",
    "version": 3
   },
   "file_extension": ".py",
   "mimetype": "text/x-python",
   "name": "python",
   "nbconvert_exporter": "python",
   "pygments_lexer": "ipython3",
   "version": "3.12.7"
  }
 },
 "nbformat": 4,
 "nbformat_minor": 5
}
