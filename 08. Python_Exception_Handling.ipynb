{
 "cells": [
  {
   "cell_type": "markdown",
   "id": "06518180",
   "metadata": {},
   "source": [
    "# Python Error and Exception Handling"
   ]
  },
  {
   "cell_type": "markdown",
   "id": "85599dcd",
   "metadata": {},
   "source": [
    "\n",
    "Error and exception handling in Python allows developers to manage unexpected situations gracefully. Python provides a robust mechanism to catch and handle exceptions using `try-except` blocks and other constructs.\n",
    "\n",
    "This notebook covers the following topics:\n",
    "1. Try-Except Blocks\n",
    "2. Else and Finally Clauses\n",
    "3. Raising Exceptions\n",
    "4. Custom Exceptions\n",
    "    "
   ]
  },
  {
   "cell_type": "markdown",
   "id": "88cd5148",
   "metadata": {},
   "source": [
    "## Try-Except Blocks"
   ]
  },
  {
   "cell_type": "markdown",
   "id": "8916db9f",
   "metadata": {},
   "source": [
    "\n",
    "### Theory\n",
    "- **Exceptions**: Errors that occur during program execution, disrupting its normal flow.\n",
    "- **Try-Except**: Used to catch and handle exceptions.\n",
    "- Syntax:\n",
    "```python\n",
    "try:\n",
    "    # Code that may raise an exception\n",
    "except ExceptionType:\n",
    "    # Code to handle the exception\n",
    "```\n",
    "\n",
    "#### Common Exceptions:\n",
    "- `ValueError`: Raised when a function receives an argument of the correct type but an inappropriate value.\n",
    "- `FileNotFoundError`: Raised when a file operation fails due to missing files.\n",
    "- `ZeroDivisionError`: Raised when attempting to divide by zero.\n"
   ]
  },
  {
   "cell_type": "code",
   "execution_count": null,
   "id": "cf7dfef7",
   "metadata": {},
   "outputs": [],
   "source": [
    "\n",
    "# Example: Try-Except Block\n",
    "try:\n",
    "    num = int(input(\"Enter a number: \"))\n",
    "    result = 10 / num\n",
    "    print(f\"Result: {result}\")\n",
    "except ZeroDivisionError:\n",
    "    print(\"Error: Division by zero is not allowed.\")\n",
    "except ValueError:\n",
    "    print(\"Error: Invalid input. Please enter a valid number.\")\n"
   ]
  },
  {
   "cell_type": "markdown",
   "id": "598576ff",
   "metadata": {},
   "source": [
    "## Else and Finally Clauses"
   ]
  },
  {
   "cell_type": "markdown",
   "id": "b2b51bfc",
   "metadata": {},
   "source": [
    "\n",
    "### Theory\n",
    "- **Else Clause**: Executes when no exception occurs in the `try` block.\n",
    "- **Finally Clause**: Executes regardless of whether an exception occurred or not. Often used for cleanup actions.\n",
    "\n",
    "#### Syntax:\n",
    "```python\n",
    "try:\n",
    "    # Code that may raise an exception\n",
    "except ExceptionType:\n",
    "    # Code to handle the exception\n",
    "else:\n",
    "    # Code to execute if no exception occurs\n",
    "finally:\n",
    "    # Code to execute regardless of exceptions\n",
    "```\n"
   ]
  },
  {
   "cell_type": "code",
   "execution_count": null,
   "id": "f4c6cc15",
   "metadata": {},
   "outputs": [],
   "source": [
    "\n",
    "# Example: Else and Finally Clauses\n",
    "try:\n",
    "    num = int(input(\"Enter a number: \"))\n",
    "    result = 10 / num\n",
    "except ZeroDivisionError:\n",
    "    print(\"Error: Division by zero is not allowed.\")\n",
    "else:\n",
    "    print(f\"Result: {result}\")\n",
    "finally:\n",
    "    print(\"Execution completed.\")\n"
   ]
  },
  {
   "cell_type": "markdown",
   "id": "bc48f7ef",
   "metadata": {},
   "source": [
    "## Raising Exceptions"
   ]
  },
  {
   "cell_type": "markdown",
   "id": "539ff4b0",
   "metadata": {},
   "source": [
    "\n",
    "### Theory\n",
    "- Python allows manual raising of exceptions using the `raise` keyword.\n",
    "- Useful for indicating errors based on specific conditions in your program.\n",
    "\n",
    "#### Syntax:\n",
    "```python\n",
    "if condition:\n",
    "    raise ExceptionType(\"Error message\")\n",
    "```\n",
    "\n",
    "#### Example:\n",
    "Raise a `ValueError` if an invalid condition is met.\n"
   ]
  },
  {
   "cell_type": "code",
   "execution_count": null,
   "id": "6beb89f7",
   "metadata": {},
   "outputs": [],
   "source": [
    "\n",
    "# Example: Raising Exceptions\n",
    "def check_positive(number):\n",
    "    if number < 0:\n",
    "        raise ValueError(\"The number must be positive.\")\n",
    "    return number\n",
    "\n",
    "try:\n",
    "    print(check_positive(-5))\n",
    "except ValueError as e:\n",
    "    print(f\"Exception caught: {e}\")\n"
   ]
  },
  {
   "cell_type": "markdown",
   "id": "14e0326a",
   "metadata": {},
   "source": [
    "## Custom Exceptions"
   ]
  },
  {
   "cell_type": "markdown",
   "id": "5039c515",
   "metadata": {},
   "source": [
    "\n",
    "### Theory\n",
    "- Python allows you to define custom exceptions by creating a new class that inherits from the `Exception` base class.\n",
    "- Custom exceptions provide meaningful error messages tailored to your program.\n",
    "\n",
    "#### Syntax:\n",
    "```python\n",
    "class CustomException(Exception):\n",
    "    pass\n",
    "\n",
    "try:\n",
    "    # Code that may raise CustomException\n",
    "except CustomException as e:\n",
    "    # Handle CustomException\n",
    "```\n",
    "\n",
    "#### Example:\n",
    "Define and use a custom exception for specific error conditions.\n"
   ]
  },
  {
   "cell_type": "code",
   "execution_count": null,
   "id": "b50a4d77",
   "metadata": {},
   "outputs": [],
   "source": [
    "\n",
    "# Example: Custom Exceptions\n",
    "class NegativeNumberError(Exception):\n",
    "    \"\"\"Custom exception for negative numbers.\"\"\"\n",
    "    pass\n",
    "\n",
    "def check_number(number):\n",
    "    if number < 0:\n",
    "        raise NegativeNumberError(\"Negative numbers are not allowed.\")\n",
    "    return number\n",
    "\n",
    "try:\n",
    "    print(check_number(-10))\n",
    "except NegativeNumberError as e:\n",
    "    print(f\"Custom exception caught: {e}\")\n"
   ]
  }
 ],
 "metadata": {
  "kernelspec": {
   "display_name": "Python 3 (ipykernel)",
   "language": "python",
   "name": "python3"
  },
  "language_info": {
   "codemirror_mode": {
    "name": "ipython",
    "version": 3
   },
   "file_extension": ".py",
   "mimetype": "text/x-python",
   "name": "python",
   "nbconvert_exporter": "python",
   "pygments_lexer": "ipython3",
   "version": "3.12.7"
  }
 },
 "nbformat": 4,
 "nbformat_minor": 5
}
