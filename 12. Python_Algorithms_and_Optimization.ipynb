{
 "cells": [
  {
   "cell_type": "markdown",
   "id": "da218bb6",
   "metadata": {},
   "source": [
    "# Algorithms and Optimization\n",
    "\n",
    "In this notebook, we will explore a range of fundamental topics in Computer Science:\n",
    "\n",
    "- **Sorting and Searching Algorithms**\n",
    "- **Dynamic Programming**\n",
    "- **Graph Algorithms**\n",
    "- **Time Complexity Analysis**\n",
    "\n",
    "We will examine the underlying theory, discuss their importance, and implement illustrative examples in Python."
   ]
  },
  {
   "cell_type": "markdown",
   "id": "9b2bf008",
   "metadata": {},
   "source": [
    "## Table of Contents\n",
    "1. [Sorting and Searching Algorithms](#sorting)\n",
    "    - [Sorting Algorithms](#sorting-algorithms)\n",
    "        - [Bubble Sort](#bubble-sort)\n",
    "        - [Selection Sort](#selection-sort)\n",
    "        - [Insertion Sort](#insertion-sort)\n",
    "        - [Merge Sort](#merge-sort)\n",
    "        - [Quick Sort](#quick-sort)\n",
    "    - [Searching Algorithms](#searching-algorithms)\n",
    "        - [Linear Search](#linear-search)\n",
    "        - [Binary Search](#binary-search)\n",
    "2. [Dynamic Programming](#dynamic-programming)\n",
    "    - [Introduction and Key Concepts](#dp-intro)\n",
    "    - [Fibonacci Example (Top-Down / Bottom-Up)](#fib-example)\n",
    "    - [Knapsack Problem Example](#knapsack)\n",
    "3. [Graph Algorithms](#graph-algorithms)\n",
    "    - [Graph Representation](#graph-representation)\n",
    "    - [Depth-First Search (DFS)](#dfs)\n",
    "    - [Breadth-First Search (BFS)](#bfs)\n",
    "    - [Shortest Path (Dijkstra's Algorithm)](#dijkstra)\n",
    "4. [Time Complexity Analysis](#time-complexity)\n",
    "    - [Big-O Notation](#big-o)\n",
    "    - [Common Complexities](#common-complexities)\n",
    "    - [Examples](#examples)\n",
    "\n",
    "Let's begin!"
   ]
  },
  {
   "cell_type": "markdown",
   "id": "bcccffb7",
   "metadata": {},
   "source": [
    "## 1. Sorting and Searching Algorithms <a name=\"sorting\"></a>\n",
    "\n",
    "### Why Sorting and Searching?\n",
    "Sorting is the process of arranging data in ascending or descending order, while searching is the process of finding an element's position (or determining its absence) in a data structure.\n",
    "\n",
    "**Key Takeaways**:\n",
    "- Sorting algorithms vary in complexity, often measured in terms of time complexity: \\(O(n^2)\\), \\(O(n \\log n)\\), etc.\n",
    "- Searching algorithms can be **linear** (\\(O(n)\\)) or **logarithmic** (\\(O(\\log n)\\)) if the data is already sorted.\n",
    "\n",
    "Let's go step by step with common sorting and searching algorithms."
   ]
  },
  {
   "cell_type": "markdown",
   "id": "033aa684",
   "metadata": {},
   "source": [
    "### Sorting Algorithms <a name=\"sorting-algorithms\"></a>\n",
    "\n",
    "We will implement the following:\n",
    "\n",
    "1. **Bubble Sort**  \n",
    "2. **Selection Sort**  \n",
    "3. **Insertion Sort**  \n",
    "4. **Merge Sort**  \n",
    "5. **Quick Sort**\n",
    "\n",
    "Let's illustrate each one in Python."
   ]
  },
  {
   "cell_type": "markdown",
   "id": "2428f0c0",
   "metadata": {},
   "source": [
    "#### 1. Bubble Sort <a name=\"bubble-sort\"></a>\n",
    "Bubble sort repeatedly swaps adjacent elements if they are in the wrong order. The algorithm passes through the list multiple times until no swaps are needed.\n",
    "\n",
    "- **Worst-case Time Complexity**: \\(O(n^2)\\)\n",
    "- **Best-case Time Complexity**: \\(O(n)\\) (if already sorted)\n",
    "- **Space Complexity**: \\(O(1)\\)"
   ]
  },
  {
   "cell_type": "code",
   "execution_count": 6,
   "id": "e46a951d",
   "metadata": {},
   "outputs": [
    {
     "data": {
      "text/plain": [
       "[11, 12, 22, 25, 34, 64, 90]"
      ]
     },
     "execution_count": 6,
     "metadata": {},
     "output_type": "execute_result"
    }
   ],
   "source": [
    "def bubble_sort(arr):\n",
    "    n = len(arr)\n",
    "    for i in range(n):\n",
    "        # Flag to detect any swap\n",
    "        swapped = False\n",
    "        for j in range(n - i - 1):\n",
    "            if arr[j] > arr[j+1]:\n",
    "                arr[j], arr[j+1] = arr[j+1], arr[j]\n",
    "                swapped = True\n",
    "        if not swapped:\n",
    "            break  # No swaps means array is sorted\n",
    "\n",
    "my_list = [64, 34, 25, 12, 22, 11, 90]\n",
    "bubble_sort(my_list)\n",
    "my_list"
   ]
  },
  {
   "cell_type": "markdown",
   "id": "24dbb73d",
   "metadata": {},
   "source": [
    "**Explanation**: Each pass 'bubbles up' the largest element to the end of the list. If during a pass there are no swaps, we conclude the list is sorted."
   ]
  },
  {
   "cell_type": "markdown",
   "id": "71af8a1f",
   "metadata": {},
   "source": [
    "#### 2. Selection Sort <a name=\"selection-sort\"></a>\n",
    "Selection sort repeatedly identifies the smallest (or largest) element in the unsorted portion of the list and places it at the beginning.\n",
    "\n",
    "- **Worst-case Time Complexity**: \\(O(n^2)\\)\n",
    "- **Best-case Time Complexity**: \\(O(n^2)\\)  (Even if sorted, it still goes through entire pass.)\n",
    "- **Space Complexity**: \\(O(1)\\)\n"
   ]
  },
  {
   "cell_type": "code",
   "execution_count": 10,
   "id": "190e2309",
   "metadata": {},
   "outputs": [
    {
     "data": {
      "text/plain": [
       "[11, 12, 22, 25, 64]"
      ]
     },
     "execution_count": 10,
     "metadata": {},
     "output_type": "execute_result"
    }
   ],
   "source": [
    "def selection_sort(arr):\n",
    "    n = len(arr)\n",
    "    for i in range(n):\n",
    "        # Find the minimum element in the remaining array\n",
    "        min_index = i\n",
    "        for j in range(i+1, n):\n",
    "            if arr[j] < arr[min_index]:\n",
    "                min_index = j\n",
    "        # Swap the found minimum element with the first element of unsorted portion\n",
    "        arr[i], arr[min_index] = arr[min_index], arr[i]\n",
    "\n",
    "my_list = [64, 25, 12, 22, 11]\n",
    "selection_sort(my_list)\n",
    "my_list"
   ]
  },
  {
   "cell_type": "markdown",
   "id": "517e4357",
   "metadata": {},
   "source": [
    "**Explanation**: Selection sort selects the minimum element from the unsorted sublist and swaps it with the leftmost unsorted element, moving the sublist boundary one element to the right."
   ]
  },
  {
   "cell_type": "markdown",
   "id": "5707d738",
   "metadata": {},
   "source": [
    "#### 3. Insertion Sort <a name=\"insertion-sort\"></a>\n",
    "Insertion sort builds the final sorted array one item at a time. It picks an element and inserts it into the correct position in the already sorted portion.\n",
    "\n",
    "- **Worst-case Time Complexity**: \\(O(n^2)\\)\n",
    "- **Best-case Time Complexity**: \\(O(n)\\) (if already sorted)\n",
    "- **Space Complexity**: \\(O(1)\\)"
   ]
  },
  {
   "cell_type": "code",
   "execution_count": 14,
   "id": "8f2637f5",
   "metadata": {},
   "outputs": [
    {
     "data": {
      "text/plain": [
       "[5, 6, 11, 12, 13]"
      ]
     },
     "execution_count": 14,
     "metadata": {},
     "output_type": "execute_result"
    }
   ],
   "source": [
    "def insertion_sort(arr):\n",
    "    for i in range(1, len(arr)):\n",
    "        key = arr[i]\n",
    "        j = i - 1\n",
    "        # Move elements of arr[0..i-1], that are greater than key, to one position ahead\n",
    "        while j >= 0 and arr[j] > key:\n",
    "            arr[j + 1] = arr[j]\n",
    "            j -= 1\n",
    "        arr[j + 1] = key\n",
    "\n",
    "my_list = [12, 11, 13, 5, 6]\n",
    "insertion_sort(my_list)\n",
    "my_list"
   ]
  },
  {
   "cell_type": "markdown",
   "id": "e73ecfea",
   "metadata": {},
   "source": [
    "**Explanation**: We \"insert\" each element into its proper place among the elements that have already been processed, shifting larger elements one step to the right."
   ]
  },
  {
   "cell_type": "markdown",
   "id": "d11bee80",
   "metadata": {},
   "source": [
    "#### 4. Merge Sort <a name=\"merge-sort\"></a>\n",
    "Merge sort is a **divide and conquer** algorithm. It divides the array into halves, sorts them recursively, and then merges the sorted halves.\n",
    "\n",
    "- **Worst-case Time Complexity**: \\(O(n \\log n)\\)\n",
    "- **Best-case Time Complexity**: \\(O(n \\log n)\\)\n",
    "- **Space Complexity**: \\(O(n)\\) (for the temporary arrays needed during merge)\n"
   ]
  },
  {
   "cell_type": "code",
   "execution_count": 18,
   "id": "6ee283af",
   "metadata": {},
   "outputs": [
    {
     "data": {
      "text/plain": [
       "[5, 6, 7, 11, 12, 13]"
      ]
     },
     "execution_count": 18,
     "metadata": {},
     "output_type": "execute_result"
    }
   ],
   "source": [
    "def merge_sort(arr):\n",
    "    if len(arr) > 1:\n",
    "        mid = len(arr) // 2  # Finding the mid of the array\n",
    "        left_half = arr[:mid]\n",
    "        right_half = arr[mid:]\n",
    "\n",
    "        # Recursively sort both halves\n",
    "        merge_sort(left_half)\n",
    "        merge_sort(right_half)\n",
    "\n",
    "        # Merge the two halves\n",
    "        i = j = k = 0\n",
    "\n",
    "        # Copy data to temp arrays left_half and right_half\n",
    "        while i < len(left_half) and j < len(right_half):\n",
    "            if left_half[i] < right_half[j]:\n",
    "                arr[k] = left_half[i]\n",
    "                i += 1\n",
    "            else:\n",
    "                arr[k] = right_half[j]\n",
    "                j += 1\n",
    "            k += 1\n",
    "\n",
    "        # Checking if any element was left\n",
    "        while i < len(left_half):\n",
    "            arr[k] = left_half[i]\n",
    "            i += 1\n",
    "            k += 1\n",
    "\n",
    "        while j < len(right_half):\n",
    "            arr[k] = right_half[j]\n",
    "            j += 1\n",
    "            k += 1\n",
    "\n",
    "my_list = [12, 11, 13, 5, 6, 7]\n",
    "merge_sort(my_list)\n",
    "my_list"
   ]
  },
  {
   "cell_type": "markdown",
   "id": "233aa9fe",
   "metadata": {},
   "source": [
    "**Explanation**: We recursively split the array in half until it's just single elements, and then merge these subarrays back together in a sorted manner."
   ]
  },
  {
   "cell_type": "markdown",
   "id": "e071ace7",
   "metadata": {},
   "source": [
    "#### 5. Quick Sort <a name=\"quick-sort\"></a>\n",
    "Quick Sort is also a **divide and conquer** algorithm. It selects a **pivot** and rearranges the array so that all elements less than the pivot are moved to its left and all elements greater than the pivot to its right. Then it recursively sorts the two sub-parts.\n",
    "\n",
    "- **Worst-case Time Complexity**: \\(O(n^2)\\) (when pivot is the smallest or largest element every time)\n",
    "- **Average / Expected Time Complexity**: \\(O(n \\log n)\\)\n",
    "- **Space Complexity**: \\(O(\\log n)\\) (due to recursion stack)\n"
   ]
  },
  {
   "cell_type": "code",
   "execution_count": 22,
   "id": "872679a4",
   "metadata": {},
   "outputs": [
    {
     "data": {
      "text/plain": [
       "[1, 5, 7, 8, 9, 10]"
      ]
     },
     "execution_count": 22,
     "metadata": {},
     "output_type": "execute_result"
    }
   ],
   "source": [
    "def partition(arr, low, high):\n",
    "    pivot = arr[high]\n",
    "    i = low - 1\n",
    "    for j in range(low, high):\n",
    "        if arr[j] < pivot:\n",
    "            i += 1\n",
    "            arr[i], arr[j] = arr[j], arr[i]\n",
    "    arr[i+1], arr[high] = arr[high], arr[i+1]\n",
    "    return i+1\n",
    "\n",
    "def quick_sort(arr, low, high):\n",
    "    if low < high:\n",
    "        pi = partition(arr, low, high)\n",
    "        quick_sort(arr, low, pi-1)\n",
    "        quick_sort(arr, pi+1, high)\n",
    "\n",
    "my_list = [10, 7, 8, 9, 1, 5]\n",
    "quick_sort(my_list, 0, len(my_list)-1)\n",
    "my_list"
   ]
  },
  {
   "cell_type": "markdown",
   "id": "ba67f294",
   "metadata": {},
   "source": [
    "**Explanation**: A pivot is chosen (in this example, the last element), and we place all elements smaller than the pivot to the left, all greater to the right. Then we recursively sort each partition."
   ]
  },
  {
   "cell_type": "markdown",
   "id": "5fe044fa",
   "metadata": {},
   "source": [
    "### Searching Algorithms <a name=\"searching-algorithms\"></a>\n",
    "1. **Linear Search**  \n",
    "2. **Binary Search**"
   ]
  },
  {
   "cell_type": "markdown",
   "id": "e6145079",
   "metadata": {},
   "source": [
    "#### 1. Linear Search <a name=\"linear-search\"></a>\n",
    "Linear search looks at each element one by one until it finds the target value (or determines the target is not in the list).\n",
    "\n",
    "- **Time Complexity**: \\(O(n)\\)\n",
    "- **Space Complexity**: \\(O(1)\\)\n"
   ]
  },
  {
   "cell_type": "code",
   "execution_count": 27,
   "id": "0ebd2f54",
   "metadata": {},
   "outputs": [
    {
     "name": "stdout",
     "output_type": "stream",
     "text": [
      "Index of 10 is: 3\n",
      "Index of 100 is: -1\n"
     ]
    }
   ],
   "source": [
    "def linear_search(arr, target):\n",
    "    for i, val in enumerate(arr):\n",
    "        if val == target:\n",
    "            return i  # Return the index\n",
    "    return -1  # Not found\n",
    "\n",
    "arr = [2, 4, 7, 10, 14]\n",
    "print(\"Index of 10 is:\", linear_search(arr, 10))\n",
    "print(\"Index of 100 is:\", linear_search(arr, 100))"
   ]
  },
  {
   "cell_type": "markdown",
   "id": "664474ff",
   "metadata": {},
   "source": [
    "#### 2. Binary Search <a name=\"binary-search\"></a>\n",
    "Binary search works on **sorted** arrays. It compares the target with the middle element; if the target is smaller, it narrows the search to the left half; otherwise, it narrows the search to the right half. This repeats until the target is found (or subarray size becomes zero).\n",
    "\n",
    "- **Time Complexity**: \\(O(\\log n)\\)\n",
    "- **Space Complexity**: \\(O(1)\\) (in iterative versions)\n"
   ]
  },
  {
   "cell_type": "code",
   "execution_count": 30,
   "id": "f06f9029",
   "metadata": {},
   "outputs": [
    {
     "name": "stdout",
     "output_type": "stream",
     "text": [
      "Index of 14 is: 4\n",
      "Index of 3 is: -1\n"
     ]
    }
   ],
   "source": [
    "def binary_search(arr, target):\n",
    "    low = 0\n",
    "    high = len(arr) - 1\n",
    "\n",
    "    while low <= high:\n",
    "        mid = (low + high) // 2\n",
    "        if arr[mid] == target:\n",
    "            return mid\n",
    "        elif arr[mid] < target:\n",
    "            low = mid + 1\n",
    "        else:\n",
    "            high = mid - 1\n",
    "    return -1\n",
    "\n",
    "sorted_arr = [2, 4, 7, 10, 14, 20]\n",
    "print(\"Index of 14 is:\", binary_search(sorted_arr, 14))\n",
    "print(\"Index of 3 is:\", binary_search(sorted_arr, 3))"
   ]
  },
  {
   "cell_type": "markdown",
   "id": "cb775b2c",
   "metadata": {},
   "source": [
    "# 2. Dynamic Programming <a name=\"dynamic-programming\"></a>\n",
    "### Introduction and Key Concepts <a name=\"dp-intro\"></a>\n",
    "**Dynamic Programming (DP)** is a strategy for solving complex problems by breaking them down into simpler subproblems, solving these subproblems just once, and storing their solutions (usually in a table). Each subproblem's solution is used to build up solutions to larger problems.\n",
    "\n",
    "Key ideas:\n",
    "1. **Overlapping Subproblems**: The problem can be broken down into smaller subproblems that recur many times.\n",
    "2. **Optimal Substructure**: The optimal solution to the problem can be constructed from optimal solutions of its subproblems.\n",
    "\n",
    "There are two main ways to implement DP:\n",
    "1. **Top-Down** (Memoization): Solve the problem using recursion and cache results.\n",
    "2. **Bottom-Up** (Tabulation): Iteratively solve smaller subproblems first, building solutions for bigger subproblems."
   ]
  },
  {
   "cell_type": "markdown",
   "id": "6dbf5772",
   "metadata": {},
   "source": [
    "### Fibonacci Example <a name=\"fib-example\"></a>\n",
    "The classical Fibonacci sequence is defined as:\n",
    "\\[\n",
    "F(n) = F(n-1) + F(n-2), \\quad F(0) = 0, \\; F(1) = 1.\n",
    "\\]\n",
    "We can show both top-down and bottom-up approaches."
   ]
  },
  {
   "cell_type": "code",
   "execution_count": 34,
   "id": "c397abfd",
   "metadata": {},
   "outputs": [
    {
     "name": "stdout",
     "output_type": "stream",
     "text": [
      "fib_top_down(0) = 0\n",
      "fib_top_down(1) = 1\n",
      "fib_top_down(2) = 1\n",
      "fib_top_down(3) = 2\n",
      "fib_top_down(4) = 3\n",
      "fib_top_down(5) = 5\n",
      "fib_top_down(6) = 8\n",
      "fib_top_down(7) = 13\n",
      "fib_top_down(8) = 21\n",
      "fib_top_down(9) = 34\n"
     ]
    }
   ],
   "source": [
    "# Top-Down (Memoization)\n",
    "\n",
    "def fib_top_down(n, memo={}):\n",
    "    if n in memo:\n",
    "        return memo[n]\n",
    "    if n < 2:\n",
    "        return n\n",
    "    memo[n] = fib_top_down(n-1, memo) + fib_top_down(n-2, memo)\n",
    "    return memo[n]\n",
    "\n",
    "for i in range(10):\n",
    "    print(f\"fib_top_down({i}) =\", fib_top_down(i))"
   ]
  },
  {
   "cell_type": "code",
   "execution_count": 36,
   "id": "c656d930",
   "metadata": {},
   "outputs": [
    {
     "name": "stdout",
     "output_type": "stream",
     "text": [
      "fib_bottom_up(0) = 0\n",
      "fib_bottom_up(1) = 1\n",
      "fib_bottom_up(2) = 1\n",
      "fib_bottom_up(3) = 2\n",
      "fib_bottom_up(4) = 3\n",
      "fib_bottom_up(5) = 5\n",
      "fib_bottom_up(6) = 8\n",
      "fib_bottom_up(7) = 13\n",
      "fib_bottom_up(8) = 21\n",
      "fib_bottom_up(9) = 34\n"
     ]
    }
   ],
   "source": [
    "# Bottom-Up (Tabulation)\n",
    "\n",
    "def fib_bottom_up(n):\n",
    "    if n < 2:\n",
    "        return n\n",
    "    dp = [0]*(n+1)\n",
    "    dp[0] = 0\n",
    "    dp[1] = 1\n",
    "    for i in range(2, n+1):\n",
    "        dp[i] = dp[i-1] + dp[i-2]\n",
    "    return dp[n]\n",
    "\n",
    "for i in range(10):\n",
    "    print(f\"fib_bottom_up({i}) =\", fib_bottom_up(i))"
   ]
  },
  {
   "cell_type": "markdown",
   "id": "00fa1dea",
   "metadata": {},
   "source": [
    "### Knapsack Problem Example <a name=\"knapsack\"></a>\n",
    "The **0/1 Knapsack Problem**: We have a set of items, each with a weight and a value, and a maximum capacity for a knapsack. We want to maximize total value while keeping total weight within capacity.\n",
    "\n",
    "- **Recursive Relation**:\n",
    "\\[\n",
    "K(i, w) = \\max( K(i-1, w), \\; v_i + K(i-1, w - w_i) )\n",
    "\\]\n",
    "where:\n",
    "- \\(K(i, w)\\) is the maximum value achievable with capacity \\(w\\) using items up to index \\(i\\).\n",
    "- \\(v_i\\) is the value of item \\(i\\), and \\(w_i\\) is the weight of item \\(i\\).\n",
    "\n",
    "**DP Approach** (Bottom-Up Tabulation):"
   ]
  },
  {
   "cell_type": "code",
   "execution_count": 39,
   "id": "687e724b",
   "metadata": {},
   "outputs": [
    {
     "name": "stdout",
     "output_type": "stream",
     "text": [
      "Maximum value in Knapsack = 220\n"
     ]
    }
   ],
   "source": [
    "def knapsack(values, weights, capacity):\n",
    "    n = len(values)\n",
    "    # dp[i][w] will hold the maximum value for capacity w using items up to i\n",
    "    dp = [[0]*(capacity+1) for _ in range(n+1)]\n",
    "\n",
    "    for i in range(1, n+1):\n",
    "        for w in range(1, capacity+1):\n",
    "            if weights[i-1] <= w:\n",
    "                # We can either include the item or exclude it\n",
    "                dp[i][w] = max(\n",
    "                    dp[i-1][w],  # Exclude\n",
    "                    values[i-1] + dp[i-1][w-weights[i-1]]  # Include\n",
    "                )\n",
    "            else:\n",
    "                dp[i][w] = dp[i-1][w]  # Can't include item\n",
    "\n",
    "    return dp[n][capacity]\n",
    "\n",
    "# Example usage:\n",
    "values = [60, 100, 120]\n",
    "weights = [10, 20, 30]\n",
    "capacity = 50\n",
    "max_value = knapsack(values, weights, capacity)\n",
    "print(\"Maximum value in Knapsack =\", max_value)"
   ]
  },
  {
   "cell_type": "markdown",
   "id": "1011fd22",
   "metadata": {},
   "source": [
    "# 3. Graph Algorithms <a name=\"graph-algorithms\"></a>\n",
    "Graphs are structures consisting of **nodes (vertices)** connected by **edges**. Graph algorithms handle questions like connectivity, shortest paths, and spanning trees.\n",
    "\n",
    "### Graph Representation <a name=\"graph-representation\"></a>\n",
    "We often represent graphs in two ways:\n",
    "1. **Adjacency Matrix**: A 2D matrix where element `(i, j)` is 1 (or the edge weight) if there's an edge between vertex `i` and `j`.\n",
    "2. **Adjacency List**: Each vertex has a list of adjacent vertices (or edges)."
   ]
  },
  {
   "cell_type": "markdown",
   "id": "e7410138",
   "metadata": {},
   "source": [
    "### Depth-First Search (DFS) <a name=\"dfs\"></a>\n",
    "DFS explores a graph by going as deep as possible along each branch before backtracking.\n",
    "\n",
    "- **Time Complexity**: \\(O(V + E)\\) where \\(V\\) is the number of vertices and \\(E\\) is the number of edges.\n",
    "- **Typical Implementation**: Recursive or using a stack."
   ]
  },
  {
   "cell_type": "code",
   "execution_count": 43,
   "id": "8936cb5c",
   "metadata": {},
   "outputs": [
    {
     "name": "stdout",
     "output_type": "stream",
     "text": [
      "Depth First Traversal (starting from vertex 2):\n",
      "2 0 1 3 "
     ]
    }
   ],
   "source": [
    "from collections import defaultdict\n",
    "\n",
    "class Graph:\n",
    "    def __init__(self):\n",
    "        self.graph = defaultdict(list)\n",
    "\n",
    "    def add_edge(self, u, v):\n",
    "        self.graph[u].append(v)\n",
    "\n",
    "    def dfs_util(self, v, visited):\n",
    "        visited.add(v)\n",
    "        print(v, end=' ')\n",
    "        for neighbour in self.graph[v]:\n",
    "            if neighbour not in visited:\n",
    "                self.dfs_util(neighbour, visited)\n",
    "\n",
    "    def dfs(self, start):\n",
    "        visited = set()\n",
    "        self.dfs_util(start, visited)\n",
    "\n",
    "# Create a sample graph\n",
    "g = Graph()\n",
    "g.add_edge(0, 1)\n",
    "g.add_edge(0, 2)\n",
    "g.add_edge(1, 2)\n",
    "g.add_edge(2, 0)\n",
    "g.add_edge(2, 3)\n",
    "g.add_edge(3, 3)\n",
    "\n",
    "# Perform DFS\n",
    "print(\"Depth First Traversal (starting from vertex 2):\")\n",
    "g.dfs(2)"
   ]
  },
  {
   "cell_type": "markdown",
   "id": "3ddf86e4",
   "metadata": {},
   "source": [
    "### Breadth-First Search (BFS) <a name=\"bfs\"></a>\n",
    "BFS explores the neighbor nodes first, before moving to the next level neighbors.\n",
    "\n",
    "- **Time Complexity**: \\(O(V + E)\\)\n",
    "- **Typical Implementation**: Using a **queue**."
   ]
  },
  {
   "cell_type": "code",
   "execution_count": 46,
   "id": "98339cb4",
   "metadata": {},
   "outputs": [
    {
     "name": "stdout",
     "output_type": "stream",
     "text": [
      "Breadth First Traversal (starting from vertex 2):\n",
      "2 0 3 1 "
     ]
    }
   ],
   "source": [
    "from collections import deque\n",
    "\n",
    "class GraphBFS:\n",
    "    def __init__(self):\n",
    "        self.graph = defaultdict(list)\n",
    "\n",
    "    def add_edge(self, u, v):\n",
    "        self.graph[u].append(v)\n",
    "\n",
    "    def bfs(self, start):\n",
    "        visited = set()\n",
    "        queue = deque([start])\n",
    "        visited.add(start)\n",
    "\n",
    "        while queue:\n",
    "            vertex = queue.popleft()\n",
    "            print(vertex, end=' ')\n",
    "\n",
    "            for neighbour in self.graph[vertex]:\n",
    "                if neighbour not in visited:\n",
    "                    visited.add(neighbour)\n",
    "                    queue.append(neighbour)\n",
    "\n",
    "# Create a sample graph\n",
    "g_bfs = GraphBFS()\n",
    "g_bfs.add_edge(0, 1)\n",
    "g_bfs.add_edge(0, 2)\n",
    "g_bfs.add_edge(1, 2)\n",
    "g_bfs.add_edge(2, 0)\n",
    "g_bfs.add_edge(2, 3)\n",
    "g_bfs.add_edge(3, 3)\n",
    "\n",
    "# Perform BFS\n",
    "print(\"Breadth First Traversal (starting from vertex 2):\")\n",
    "g_bfs.bfs(2)"
   ]
  },
  {
   "cell_type": "markdown",
   "id": "b0256323",
   "metadata": {},
   "source": [
    "### Shortest Path: Dijkstra's Algorithm <a name=\"dijkstra\"></a>\n",
    "Dijkstra's algorithm finds the shortest path from a source to all other vertices in a **weighted graph** with **non-negative edge weights**.\n",
    "\n",
    "- **Time Complexity**: Using a **min-heap/priority queue**, \\(O(E \\log V)\\).\n",
    "\n",
    "**Key Steps**:\n",
    "1. Initialize distances of all vertices as infinite. Distance of source to itself is 0.\n",
    "2. Use a priority queue to get the vertex with the smallest distance.\n",
    "3. Update distances of adjacent vertices.\n",
    "4. Repeat until all vertices are processed or queue is empty."
   ]
  },
  {
   "cell_type": "code",
   "execution_count": 49,
   "id": "65a55992",
   "metadata": {},
   "outputs": [
    {
     "name": "stdout",
     "output_type": "stream",
     "text": [
      "Shortest distances from A: {'A': 0, 'B': 1, 'C': 3, 'D': 4}\n"
     ]
    }
   ],
   "source": [
    "import heapq\n",
    "\n",
    "def dijkstra(graph, source):\n",
    "    # graph is in adjacency list form: graph[u] = [(v, weight), ...]\n",
    "    distances = {node: float('inf') for node in graph}\n",
    "    distances[source] = 0\n",
    "    pq = [(0, source)]  # priority queue of (distance, vertex)\n",
    "\n",
    "    while pq:\n",
    "        current_dist, current_vertex = heapq.heappop(pq)\n",
    "\n",
    "        # If the distance in the queue is outdated, skip\n",
    "        if current_dist > distances[current_vertex]:\n",
    "            continue\n",
    "\n",
    "        for neighbor, weight in graph[current_vertex]:\n",
    "            distance = current_dist + weight\n",
    "            # If found a shorter path to neighbor\n",
    "            if distance < distances[neighbor]:\n",
    "                distances[neighbor] = distance\n",
    "                heapq.heappush(pq, (distance, neighbor))\n",
    "\n",
    "    return distances\n",
    "\n",
    "# Example usage\n",
    "weighted_graph = {\n",
    "    'A': [('B', 1), ('C', 4)],\n",
    "    'B': [('C', 2), ('D', 5)],\n",
    "    'C': [('D', 1)],\n",
    "    'D': []\n",
    "}\n",
    "\n",
    "print(\"Shortest distances from A:\", dijkstra(weighted_graph, 'A'))"
   ]
  },
  {
   "cell_type": "markdown",
   "id": "1d7e2dae",
   "metadata": {},
   "source": [
    "# 4. Time Complexity Analysis <a name=\"time-complexity\"></a>\n",
    "Time complexity describes how the runtime of an algorithm scales with the input size **n**.\n",
    "\n",
    "## Big-O Notation <a name=\"big-o\"></a>\n",
    "We use Big-O notation to provide an **upper bound** on the growth rate of the runtime:\n",
    "\n",
    "- **\\(O(1)\\)**: Constant time, does not scale with input size.\n",
    "- **\\(O(\\log n)\\)**: Logarithmic time, e.g., binary search.\n",
    "- **\\(O(n)\\)**: Linear time, e.g., linear search.\n",
    "- **\\(O(n \\log n)\\)**: Quasilinear time, e.g., merge sort, quicksort (average case).\n",
    "- **\\(O(n^2)\\)**: Quadratic time, e.g., bubble sort, selection sort.\n",
    "- **\\(O(n^3)\\)**: Cubic time.\n",
    "- **\\(O(2^n)\\)**: Exponential time.\n",
    "- **\\(O(n!)\\)**: Factorial time.\n",
    "\n",
    "## Common Complexities <a name=\"common-complexities\"></a>\n",
    "Below is a quick reference to some typical complexities of the algorithms discussed:\n",
    "- **Bubble Sort, Insertion Sort, Selection Sort**: \\(O(n^2)\\)\n",
    "- **Merge Sort, Quick Sort (average case)**: \\(O(n \\log n)\\)\n",
    "- **Linear Search**: \\(O(n)\\)\n",
    "- **Binary Search**: \\(O(\\log n)\\)\n",
    "- **DFS, BFS**: \\(O(V + E)\\)\n",
    "- **Dijkstra's**: \\(O(E \\log V)\\)\n",
    "\n",
    "## Examples <a name=\"examples\"></a>\n",
    "Below are some quick Python examples illustrating how we might measure time complexity in practice. We'll use the built-in `time` library for a rough measurement. (For more precise measurements, one might use the `timeit` module or other profiling tools.)"
   ]
  },
  {
   "cell_type": "code",
   "execution_count": 52,
   "id": "25391580",
   "metadata": {},
   "outputs": [
    {
     "name": "stdout",
     "output_type": "stream",
     "text": [
      "Linear Search took 0.05333137512207031 seconds. Found at index: 999999\n",
      "Binary Search took 0.0 seconds. Found at index: 999999\n"
     ]
    }
   ],
   "source": [
    "import time\n",
    "\n",
    "# Example: Compare linear vs. binary search for a large input\n",
    "\n",
    "def linear_search(arr, target):\n",
    "    for i, val in enumerate(arr):\n",
    "        if val == target:\n",
    "            return i\n",
    "    return -1\n",
    "\n",
    "def binary_search(arr, target):\n",
    "    low, high = 0, len(arr) - 1\n",
    "    while low <= high:\n",
    "        mid = (low + high) // 2\n",
    "        if arr[mid] == target:\n",
    "            return mid\n",
    "        elif arr[mid] < target:\n",
    "            low = mid + 1\n",
    "        else:\n",
    "            high = mid - 1\n",
    "    return -1\n",
    "\n",
    "large_sorted_list = list(range(1000000))  # A million elements\n",
    "target_value = 999999\n",
    "\n",
    "# Linear search timing\n",
    "start_time = time.time()\n",
    "idx_linear = linear_search(large_sorted_list, target_value)\n",
    "end_time = time.time()\n",
    "print(\"Linear Search took\", end_time - start_time, \"seconds. Found at index:\", idx_linear)\n",
    "\n",
    "# Binary search timing\n",
    "start_time = time.time()\n",
    "idx_binary = binary_search(large_sorted_list, target_value)\n",
    "end_time = time.time()\n",
    "print(\"Binary Search took\", end_time - start_time, \"seconds. Found at index:\", idx_binary)"
   ]
  },
  {
   "cell_type": "markdown",
   "id": "6081dfc1",
   "metadata": {},
   "source": [
    "# Conclusion\n",
    "In this notebook, we covered:\n",
    "1. **Sorting and Searching Algorithms**: Their implementations and complexities.\n",
    "2. **Dynamic Programming**: Memoization and tabulation, with examples (Fibonacci, Knapsack).\n",
    "3. **Graph Algorithms**: DFS, BFS, Dijkstra's algorithm.\n",
    "4. **Time Complexity Analysis**: Big-O notation and common complexities.\n",
    "\n",
    "These algorithms and concepts form the core of many real-world applications and more advanced data structures. Understanding them deeply is essential for optimizing solutions and handling large-scale data efficiently.\n",
    "\n",
    "Feel free to modify and experiment with these code snippets to gain more insight into these topics!"
   ]
  }
 ],
 "metadata": {
  "kernelspec": {
   "display_name": "Python 3 (ipykernel)",
   "language": "python",
   "name": "python3"
  },
  "language_info": {
   "codemirror_mode": {
    "name": "ipython",
    "version": 3
   },
   "file_extension": ".py",
   "mimetype": "text/x-python",
   "name": "python",
   "nbconvert_exporter": "python",
   "pygments_lexer": "ipython3",
   "version": "3.12.7"
  },
  "name": "Algorithms_Optimization.ipynb"
 },
 "nbformat": 4,
 "nbformat_minor": 5
}
