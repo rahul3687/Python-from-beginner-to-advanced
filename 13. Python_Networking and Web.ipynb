{
 "cells": [
  {
   "cell_type": "markdown",
   "id": "4ee33830",
   "metadata": {},
   "source": [
    "# Networking and Web\n",
    "\n",
    "In this notebook, we will explore fundamental concepts of **Networking and Web** in Python:\n",
    "\n",
    "1. **Sockets Programming**\n",
    "2. **Working with APIs (REST, GraphQL)**\n",
    "3. **Web Scraping (Beautiful Soup, Selenium)**\n",
    "\n",
    "We'll include theoretical explanations and illustrative code examples."
   ]
  },
  {
   "cell_type": "markdown",
   "id": "e9e67871",
   "metadata": {},
   "source": [
    "## Table of Contents\n",
    "1. [Sockets Programming](#sockets)\n",
    "2. [Working with APIs](#apis)\n",
    "    - [REST API Requests](#rest)\n",
    "    - [GraphQL Requests](#graphql)\n",
    "3. [Web Scraping](#webscraping)\n",
    "    - [Beautiful Soup](#beautifulsoup)\n",
    "    - [Selenium](#selenium)\n",
    "\n",
    "Let's begin!"
   ]
  },
  {
   "cell_type": "markdown",
   "id": "bdab8c40",
   "metadata": {},
   "source": [
    "## 1. Sockets Programming <a name=\"sockets\"></a>\n",
    "\n",
    "Sockets are low-level endpoints used for sending and receiving data between **clients** and **servers** over networks. Python provides the built-in `socket` library for this purpose.\n",
    "\n",
    "### Key Concepts\n",
    "- **AF_INET**: Address Family for IPv4\n",
    "- **SOCK_STREAM**: TCP sockets (reliable, connection-based)\n",
    "- **SOCK_DGRAM**: UDP sockets (unreliable, connectionless)\n",
    "- **Server**: Binds to a particular IP/Port, listens for connections\n",
    "- **Client**: Connects to the server, sends/receives data\n",
    "\n",
    "Below is a minimal TCP client-server example."
   ]
  },
  {
   "cell_type": "code",
   "execution_count": 28,
   "id": "128062c6",
   "metadata": {
    "tags": []
   },
   "outputs": [],
   "source": [
    "### server.py example\n",
    "# Run this code in one cell (or a separate script) to act as a server.\n",
    "\n",
    "import socket\n",
    "import sys\n",
    "\n",
    "def run_server(host='127.0.0.1', port=65432):\n",
    "    # Create socket\n",
    "    with socket.socket(socket.AF_INET, socket.SOCK_STREAM) as s:\n",
    "        s.bind((host, port))\n",
    "        s.listen()\n",
    "        print(f\"Server listening on {host}:{port}...\")\n",
    "\n",
    "        # Accept a connection\n",
    "        conn, addr = s.accept()\n",
    "        with conn:\n",
    "            print(f\"Connected by {addr}\")\n",
    "            while True:\n",
    "                data = conn.recv(1024)\n",
    "                if not data:\n",
    "                    break\n",
    "                print(f\"Received from client: {data.decode('utf-8')}\")\n",
    "                response = \"Hello from server!\".encode('utf-8')\n",
    "                conn.sendall(response)\n",
    "\n",
    "# Note: In a typical scenario, you'd run this in a separate file or console.\n",
    "if __name__ == \"__main__\":\n",
    "    # Uncomment the line below to actually run the server in a script.\n",
    "    # run_server()\n",
    "    pass"
   ]
  },
  {
   "cell_type": "code",
   "execution_count": 30,
   "id": "518175f4",
   "metadata": {
    "tags": []
   },
   "outputs": [],
   "source": [
    "### client.py example\n",
    "# Run this code in another cell (or a separate script) to act as a client.\n",
    "\n",
    "import socket\n",
    "\n",
    "def run_client(host='127.0.0.1', port=65432):\n",
    "    with socket.socket(socket.AF_INET, socket.SOCK_STREAM) as s:\n",
    "        s.connect((host, port))\n",
    "        message = \"Hello from client!\".encode('utf-8')\n",
    "        s.sendall(message)\n",
    "        data = s.recv(1024)\n",
    "        print(f\"Received from server: {data.decode('utf-8')}\")\n",
    "\n",
    "# Note: In a typical scenario, you'd run this in a separate file or console.\n",
    "if __name__ == \"__main__\":\n",
    "    # Uncomment the line below to actually run the client in a script.\n",
    "    # run_client()\n",
    "    pass"
   ]
  },
  {
   "cell_type": "markdown",
   "id": "73750902",
   "metadata": {},
   "source": [
    "**How to run** (simplified steps):\n",
    "1. Open one terminal, run the server code (this will listen on `host`, `port`).\n",
    "2. Open another terminal, run the client code (this will connect to the server, send, and receive messages).\n",
    "\n",
    "That’s the basic flow of creating a socket-based client-server application in Python!"
   ]
  },
  {
   "cell_type": "markdown",
   "id": "9d2afa21",
   "metadata": {},
   "source": [
    "## 2. Working with APIs <a name=\"apis\"></a>\n",
    "\n",
    "APIs (Application Programming Interfaces) allow communication between different software systems or services. In the **web** world, this commonly involves **HTTP** requests.\n",
    "\n",
    "### Python Tools\n",
    "- **requests** library for simple HTTP(S) requests.\n",
    "- **json** library for parsing JSON responses.\n",
    "- Dedicated libraries or frameworks for GraphQL (e.g., `gql`), though you can also use plain `requests`.\n",
    "\n",
    "Below, let's see how we can work with **REST** and **GraphQL** APIs."
   ]
  },
  {
   "cell_type": "markdown",
   "id": "688247e1",
   "metadata": {},
   "source": [
    "### 2.1 REST API Requests <a name=\"rest\"></a>\n",
    "\n",
    "**REST (Representational State Transfer)** is a common architectural style for building web services. Typically uses **JSON** for data.\n",
    "\n",
    "**Example**: We will perform a GET request to a public API. For instance, [JSONPlaceholder](https://jsonplaceholder.typicode.com/) is a free fake REST API for testing.\n",
    "\n",
    "We can fetch posts from `/posts` endpoint."
   ]
  },
  {
   "cell_type": "code",
   "execution_count": 35,
   "id": "b7f84445",
   "metadata": {},
   "outputs": [
    {
     "name": "stdout",
     "output_type": "stream",
     "text": [
      "Total posts fetched: 100\n",
      "First post: {'userId': 1, 'id': 1, 'title': 'sunt aut facere repellat provident occaecati excepturi optio reprehenderit', 'body': 'quia et suscipit\\nsuscipit recusandae consequuntur expedita et cum\\nreprehenderit molestiae ut ut quas totam\\nnostrum rerum est autem sunt rem eveniet architecto'}\n"
     ]
    }
   ],
   "source": [
    "import requests\n",
    "\n",
    "def get_example_posts():\n",
    "    url = \"https://jsonplaceholder.typicode.com/posts\"\n",
    "    response = requests.get(url)\n",
    "    if response.status_code == 200:\n",
    "        posts = response.json()  # This is a list of dictionaries\n",
    "        return posts\n",
    "    else:\n",
    "        print(f\"Request failed with status: {response.status_code}\")\n",
    "        return []\n",
    "\n",
    "posts_data = get_example_posts()\n",
    "print(\"Total posts fetched:\", len(posts_data))\n",
    "print(\"First post:\", posts_data[0] if posts_data else \"No data\")"
   ]
  },
  {
   "cell_type": "markdown",
   "id": "8d9de86c",
   "metadata": {},
   "source": [
    "**Explanation**:\n",
    "- We use `requests.get(url)` to make a GET request.\n",
    "- `response.json()` directly parses JSON data into a Python object.\n",
    "- Typically, we handle errors by checking `response.status_code`."
   ]
  },
  {
   "cell_type": "markdown",
   "id": "e403d9e9",
   "metadata": {},
   "source": [
    "### 2.2 GraphQL Requests <a name=\"graphql\"></a>\n",
    "\n",
    "**GraphQL** is a query language for APIs. Instead of multiple endpoints, GraphQL typically has a single endpoint (e.g., `/graphql`), and the client sends **queries** or **mutations** describing exactly what data is needed.\n",
    "\n",
    "We can use the Python `requests` library as well. For instance, if you have a GraphQL endpoint, you typically send a POST request with a JSON body containing your **query** (and optionally **variables**)."
   ]
  },
  {
   "cell_type": "code",
   "execution_count": 39,
   "id": "9c2d7ea8",
   "metadata": {},
   "outputs": [
    {
     "name": "stdout",
     "output_type": "stream",
     "text": [
      "HTTPSConnectionPool(host='api.spacex.land', port=443): Max retries exceeded with url: /graphql/ (Caused by NameResolutionError(\"<urllib3.connection.HTTPSConnection object at 0x000001812A92F2C0>: Failed to resolve 'api.spacex.land' ([Errno 11001] getaddrinfo failed)\"))\n"
     ]
    }
   ],
   "source": [
    "import requests\n",
    "\n",
    "def get_graphql_data():\n",
    "    # This is an example GraphQL endpoint (placeholder).\n",
    "    # You would need a real endpoint to test.\n",
    "    url = \"https://api.spacex.land/graphql/\"  # A publicly accessible GraphQL endpoint\n",
    "    # Example query: let's fetch some data about launches.\n",
    "    query = \"\"\"\n",
    "    {\n",
    "      launchesPast(limit: 2) {\n",
    "        mission_name\n",
    "        launch_date_utc\n",
    "        launch_site {\n",
    "          site_name_long\n",
    "        }\n",
    "      }\n",
    "    }\n",
    "    \"\"\"\n",
    "\n",
    "    response = requests.post(url, json={'query': query})\n",
    "    if response.status_code == 200:\n",
    "        return response.json()\n",
    "    else:\n",
    "        raise Exception(f\"Query failed with status code {response.status_code}\")\n",
    "\n",
    "try:\n",
    "    data = get_graphql_data()\n",
    "    # Data is a dictionary with 'data' and possibly 'errors'.\n",
    "    print(\"GraphQL response:\", data)\n",
    "except Exception as e:\n",
    "    print(str(e))"
   ]
  },
  {
   "cell_type": "markdown",
   "id": "f11c10f7",
   "metadata": {},
   "source": [
    "**Explanation**:\n",
    "- GraphQL requests typically use `POST`.\n",
    "- The body of the request includes a key `query` containing the GraphQL string.\n",
    "- Optionally, one might include `variables`.\n",
    "- The response usually contains `data` (the requested fields) or `errors`."
   ]
  },
  {
   "cell_type": "markdown",
   "id": "ef403300",
   "metadata": {},
   "source": [
    "## 3. Web Scraping <a name=\"webscraping\"></a>\n",
    "\n",
    "**Web Scraping** is the process of extracting data from websites. In Python, two common libraries are:\n",
    "1. **Beautiful Soup** (BS4) for parsing HTML.\n",
    "2. **Selenium** for browser automation (which can handle dynamic JavaScript-based pages).\n",
    "\n",
    "> **Note**: Always check a website’s **robots.txt** and **Terms of Service** before scraping. Make sure you have the right to scrape the information.\n"
   ]
  },
  {
   "cell_type": "markdown",
   "id": "b11450b0",
   "metadata": {},
   "source": [
    "### 3.1 Beautiful Soup <a name=\"beautifulsoup\"></a>\n",
    "\n",
    "**Beautiful Soup** is perfect for scraping static HTML content. We typically:\n",
    "1. Fetch the page HTML using `requests`.\n",
    "2. Parse it with Beautiful Soup.\n",
    "3. Locate tags, classes, IDs, etc., and extract the desired data."
   ]
  },
  {
   "cell_type": "code",
   "execution_count": 44,
   "id": "d8604cf7",
   "metadata": {},
   "outputs": [
    {
     "name": "stdout",
     "output_type": "stream",
     "text": [
      "H1 text: Example Domain\n"
     ]
    }
   ],
   "source": [
    "import requests\n",
    "from bs4 import BeautifulSoup\n",
    "\n",
    "def scrape_example():\n",
    "    url = \"https://example.com/\"  # A simple, static HTML page\n",
    "    response = requests.get(url)\n",
    "    if response.status_code == 200:\n",
    "        soup = BeautifulSoup(response.text, 'html.parser')\n",
    "        # Example: Extract the text inside <h1> tag\n",
    "        h1 = soup.find('h1')\n",
    "        if h1:\n",
    "            print(\"H1 text:\", h1.get_text())\n",
    "        else:\n",
    "            print(\"No <h1> found.\")\n",
    "    else:\n",
    "        print(f\"Failed to retrieve page: status {response.status_code}\")\n",
    "\n",
    "# Let's call the function\n",
    "scrape_example()"
   ]
  },
  {
   "cell_type": "markdown",
   "id": "a84d0f55",
   "metadata": {},
   "source": [
    "**Explanation**:\n",
    "- `BeautifulSoup(response.text, 'html.parser')` will parse HTML content.\n",
    "- `soup.find('h1')` finds the first `<h1>` element in the document.\n",
    "- We can also use `soup.find_all(...)` or CSS selectors `soup.select(...)` for more advanced queries."
   ]
  },
  {
   "cell_type": "markdown",
   "id": "8623d6c9",
   "metadata": {},
   "source": [
    "### 3.2 Selenium <a name=\"selenium\"></a>\n",
    "\n",
    "**Selenium** drives a real (or headless) browser, making it suitable for **dynamic** sites where HTML is generated by JavaScript.\n",
    "\n",
    "**Setup**:\n",
    "- Install Selenium: `pip install selenium`\n",
    "- You also need a **WebDriver** (e.g., [ChromeDriver](https://chromedriver.chromium.org/), GeckoDriver for Firefox, etc.)\n",
    "\n",
    "**Basic Steps**:\n",
    "1. Download the browser driver (e.g., `chromedriver.exe`).\n",
    "2. Specify the driver path.\n",
    "3. Use Selenium to open a browser, navigate, and interact with elements.\n"
   ]
  },
  {
   "cell_type": "code",
   "execution_count": 48,
   "id": "0cb0901b",
   "metadata": {},
   "outputs": [],
   "source": [
    "from selenium import webdriver\n",
    "from selenium.webdriver.chrome.service import Service\n",
    "from selenium.webdriver.common.by import By\n",
    "import time\n",
    "\n",
    "def selenium_example():\n",
    "    # Path to your locally installed ChromeDriver\n",
    "    # On Windows, e.g.: Service('C:/path/to/chromedriver.exe')\n",
    "    # On macOS/Linux, e.g.: Service('/usr/local/bin/chromedriver')\n",
    "    # For demonstration, we keep it generic.\n",
    "    service = Service(\"/path/to/chromedriver\")\n",
    "    driver = webdriver.Chrome(service=service)\n",
    "\n",
    "    try:\n",
    "        driver.get(\"https://example.com\")\n",
    "        time.sleep(2)  # Let page load fully\n",
    "\n",
    "        # Extract the <h1> using Selenium\n",
    "        element = driver.find_element(By.TAG_NAME, 'h1')\n",
    "        print(\"H1 text via Selenium:\", element.text)\n",
    "\n",
    "    finally:\n",
    "        driver.quit()\n",
    "\n",
    "# Note: This won't run here if you don't have Selenium properly set up.\n",
    "# Uncomment the line below after installing selenium & chromedriver.\n",
    "# selenium_example()"
   ]
  },
  {
   "cell_type": "markdown",
   "id": "be63abfe",
   "metadata": {},
   "source": [
    "**Explanation**:\n",
    "- `webdriver.Chrome` launches a Chrome browser (or Chrome in headless mode if configured).\n",
    "- `driver.get(url)` navigates to a web page.\n",
    "- You can locate elements using `By.ID`, `By.CSS_SELECTOR`, `By.XPATH`, etc.\n",
    "- **Selenium** is excellent for websites that rely heavily on JavaScript for content rendering."
   ]
  },
  {
   "cell_type": "markdown",
   "id": "26c6e8a6",
   "metadata": {},
   "source": [
    "# Summary\n",
    "In this notebook, we covered:\n",
    "\n",
    "1. **Sockets Programming**: Using the built-in `socket` library for low-level TCP client-server communication.\n",
    "2. **Working with APIs (REST, GraphQL)**: Using `requests` to make HTTP requests and parse JSON. Demonstrated a GraphQL query example.\n",
    "3. **Web Scraping**:\n",
    "    - **Beautiful Soup** for parsing static HTML content.\n",
    "    - **Selenium** for automating a browser and scraping dynamic web pages.\n",
    "\n",
    "These are core skills for many **data engineering**, **backend**, and **automation** tasks. Make sure to handle them responsibly (respecting Terms of Service and avoiding heavy loads on servers)."
   ]
  }
 ],
 "metadata": {
  "kernelspec": {
   "display_name": "Python 3 (ipykernel)",
   "language": "python",
   "name": "python3"
  },
  "language_info": {
   "codemirror_mode": {
    "name": "ipython",
    "version": 3
   },
   "file_extension": ".py",
   "mimetype": "text/x-python",
   "name": "python",
   "nbconvert_exporter": "python",
   "pygments_lexer": "ipython3",
   "version": "3.12.7"
  },
  "name": "Networking_Web.ipynb"
 },
 "nbformat": 4,
 "nbformat_minor": 5
}
