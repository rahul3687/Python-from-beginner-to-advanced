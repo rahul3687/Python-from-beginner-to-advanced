{
 "cells": [
  {
   "cell_type": "markdown",
   "id": "9ed3b2c1",
   "metadata": {},
   "source": [
    "# Python Object-Oriented Programming (OOP)"
   ]
  },
  {
   "cell_type": "markdown",
   "id": "e8b8b4de",
   "metadata": {},
   "source": [
    "\n",
    "Object-Oriented Programming (OOP) is a programming paradigm based on the concept of objects, which can contain data (attributes) and methods (functions). Python's OOP implementation makes it a powerful tool for building modular, reusable, and scalable applications.\n",
    "\n",
    "This notebook covers the following OOP topics:\n",
    "1. Classes and Objects\n",
    "2. Constructors\n",
    "3. Inheritance\n",
    "4. Polymorphism\n",
    "5. Encapsulation\n",
    "6. Abstraction\n",
    "7. Magic/Dunder Methods\n",
    "8. Property Decorators (`@property`)\n",
    "    "
   ]
  },
  {
   "cell_type": "markdown",
   "id": "302aef52",
   "metadata": {},
   "source": [
    "## Classes and Objects"
   ]
  },
  {
   "cell_type": "markdown",
   "id": "226a37aa",
   "metadata": {},
   "source": [
    "\n",
    "### Theory\n",
    "- **Classes**: Blueprints for creating objects. They define the attributes (data) and methods (functions) that the objects will have.\n",
    "- **Objects**: Instances of a class. They represent specific implementations of the class.\n",
    "- **Syntax**:\n",
    "  ```python\n",
    "  class ClassName:\n",
    "      def __init__(self):\n",
    "          # Constructor to initialize attributes\n",
    "          pass\n",
    "      \n",
    "      def method_name(self):\n",
    "          # Define behavior (methods) for objects\n",
    "          pass\n",
    "  ```\n"
   ]
  },
  {
   "cell_type": "code",
   "execution_count": null,
   "id": "49bdb6b1",
   "metadata": {},
   "outputs": [],
   "source": [
    "\n",
    "# Example: Classes and Objects\n",
    "class Person:\n",
    "    def __init__(self, name, age):\n",
    "        self.name = name  # Attribute\n",
    "        self.age = age    # Attribute\n",
    "    \n",
    "    def greet(self):\n",
    "        return f\"Hello, my name is {self.name} and I am {self.age} years old.\"\n",
    "\n",
    "# Create an object (instance of Person)\n",
    "person1 = Person(\"Alice\", 30)\n",
    "print(person1.greet())\n"
   ]
  },
  {
   "cell_type": "markdown",
   "id": "338e7b61",
   "metadata": {},
   "source": [
    "## Constructors"
   ]
  },
  {
   "cell_type": "markdown",
   "id": "af023fbf",
   "metadata": {},
   "source": [
    "\n",
    "### Theory\n",
    "- A **constructor** is a special method called `__init__` in Python that initializes the attributes of a class.\n",
    "- It is automatically called when an object of the class is created.\n",
    "- You can provide default values to attributes in the constructor.\n",
    "\n",
    "#### Syntax:\n",
    "```python\n",
    "def __init__(self, parameters):\n",
    "    # Initialize attributes\n",
    "    self.attribute = value\n",
    "```\n"
   ]
  },
  {
   "cell_type": "code",
   "execution_count": null,
   "id": "51e5d366",
   "metadata": {},
   "outputs": [],
   "source": [
    "\n",
    "# Example: Constructor\n",
    "class Rectangle:\n",
    "    def __init__(self, width, height):\n",
    "        self.width = width\n",
    "        self.height = height\n",
    "    \n",
    "    def area(self):\n",
    "        return self.width * self.height\n",
    "\n",
    "rect = Rectangle(5, 10)\n",
    "print(f\"Area of rectangle: {rect.area()}\")\n"
   ]
  },
  {
   "cell_type": "markdown",
   "id": "555b9d1b",
   "metadata": {},
   "source": [
    "## Inheritance"
   ]
  },
  {
   "cell_type": "markdown",
   "id": "97f13e59",
   "metadata": {},
   "source": [
    "\n",
    "### Theory\n",
    "- **Inheritance** allows a class (child class) to inherit attributes and methods from another class (parent class).\n",
    "- The child class can override or extend the functionality of the parent class.\n",
    "\n",
    "#### Syntax:\n",
    "```python\n",
    "class ParentClass:\n",
    "    # Parent class code\n",
    "\n",
    "class ChildClass(ParentClass):\n",
    "    # Child class code\n",
    "```\n"
   ]
  },
  {
   "cell_type": "code",
   "execution_count": null,
   "id": "47a2fd7f",
   "metadata": {},
   "outputs": [],
   "source": [
    "\n",
    "# Example: Inheritance\n",
    "class Animal:\n",
    "    def speak(self):\n",
    "        return \"I make a sound.\"\n",
    "\n",
    "class Dog(Animal):\n",
    "    def speak(self):\n",
    "        return \"Bark!\"\n",
    "\n",
    "class Cat(Animal):\n",
    "    def speak(self):\n",
    "        return \"Meow!\"\n",
    "\n",
    "dog = Dog()\n",
    "cat = Cat()\n",
    "print(dog.speak())\n",
    "print(cat.speak())\n"
   ]
  },
  {
   "cell_type": "markdown",
   "id": "1de2327b",
   "metadata": {},
   "source": [
    "## Polymorphism"
   ]
  },
  {
   "cell_type": "markdown",
   "id": "e488c830",
   "metadata": {},
   "source": [
    "\n",
    "### Theory\n",
    "- **Polymorphism** allows methods in different classes to have the same name but behave differently based on the class.\n",
    "- It provides flexibility in using a unified interface.\n",
    "\n",
    "#### Example:\n",
    "Multiple classes implementing a method `speak`, but each method produces a unique output based on the class.\n"
   ]
  },
  {
   "cell_type": "code",
   "execution_count": null,
   "id": "cd943341",
   "metadata": {},
   "outputs": [],
   "source": [
    "\n",
    "# Example: Polymorphism\n",
    "class Bird:\n",
    "    def fly(self):\n",
    "        return \"Birds can fly.\"\n",
    "\n",
    "class Penguin(Bird):\n",
    "    def fly(self):\n",
    "        return \"Penguins cannot fly.\"\n",
    "\n",
    "bird = Bird()\n",
    "penguin = Penguin()\n",
    "print(bird.fly())\n",
    "print(penguin.fly())\n"
   ]
  },
  {
   "cell_type": "markdown",
   "id": "4181ffc2",
   "metadata": {},
   "source": [
    "## Encapsulation"
   ]
  },
  {
   "cell_type": "markdown",
   "id": "4499a83c",
   "metadata": {},
   "source": [
    "\n",
    "### Theory\n",
    "- **Encapsulation** is the process of restricting access to certain components of an object to prevent direct modification.\n",
    "- Python uses:\n",
    "  - `_single_leading_underscore`: A weak \"internal use\" indicator.\n",
    "  - `__double_leading_underscore`: Name mangling for private attributes.\n",
    "\n",
    "#### Example:\n",
    "Control access to private variables using getter and setter methods.\n"
   ]
  },
  {
   "cell_type": "code",
   "execution_count": null,
   "id": "94a8f43d",
   "metadata": {},
   "outputs": [],
   "source": [
    "\n",
    "# Example: Encapsulation\n",
    "class BankAccount:\n",
    "    def __init__(self, balance):\n",
    "        self.__balance = balance  # Private attribute\n",
    "\n",
    "    def deposit(self, amount):\n",
    "        if amount > 0:\n",
    "            self.__balance += amount\n",
    "\n",
    "    def get_balance(self):\n",
    "        return self.__balance\n",
    "\n",
    "account = BankAccount(100)\n",
    "account.deposit(50)\n",
    "print(f\"Balance: {account.get_balance()}\")\n"
   ]
  },
  {
   "cell_type": "markdown",
   "id": "caa09ad4",
   "metadata": {},
   "source": [
    "## Abstraction"
   ]
  },
  {
   "cell_type": "markdown",
   "id": "ea2b7a73",
   "metadata": {},
   "source": [
    "\n",
    "### Theory\n",
    "- **Abstraction** hides the internal implementation details and exposes only the necessary functionality.\n",
    "- Implemented using abstract base classes (`ABC` module).\n",
    "\n",
    "#### Example:\n",
    "Define an abstract class with abstract methods that must be implemented by subclasses.\n"
   ]
  },
  {
   "cell_type": "code",
   "execution_count": null,
   "id": "23065cbd",
   "metadata": {},
   "outputs": [],
   "source": [
    "\n",
    "# Example: Abstraction\n",
    "from abc import ABC, abstractmethod\n",
    "\n",
    "class Shape(ABC):\n",
    "    @abstractmethod\n",
    "    def area(self):\n",
    "        pass\n",
    "\n",
    "class Circle(Shape):\n",
    "    def __init__(self, radius):\n",
    "        self.radius = radius\n",
    "\n",
    "    def area(self):\n",
    "        return 3.14 * self.radius ** 2\n",
    "\n",
    "circle = Circle(5)\n",
    "print(f\"Area of circle: {circle.area()}\")\n"
   ]
  },
  {
   "cell_type": "markdown",
   "id": "4d48bfec",
   "metadata": {},
   "source": [
    "## Magic/Dunder Methods"
   ]
  },
  {
   "cell_type": "markdown",
   "id": "6591a3e7",
   "metadata": {},
   "source": [
    "\n",
    "### Theory\n",
    "- **Magic methods** (or dunder methods) in Python are special methods surrounded by double underscores (e.g., `__init__`, `__str__`).\n",
    "- They allow customization of behavior for built-in operations.\n",
    "\n",
    "#### Common Magic Methods:\n",
    "- `__init__`: Constructor.\n",
    "- `__str__`: String representation of an object.\n",
    "- `__add__`: Define addition behavior for objects.\n"
   ]
  },
  {
   "cell_type": "code",
   "execution_count": null,
   "id": "8b8f354a",
   "metadata": {},
   "outputs": [],
   "source": [
    "\n",
    "# Example: Magic Methods\n",
    "class Point:\n",
    "    def __init__(self, x, y):\n",
    "        self.x = x\n",
    "        self.y = y\n",
    "\n",
    "    def __add__(self, other):\n",
    "        return Point(self.x + other.x, self.y + other.y)\n",
    "\n",
    "    def __str__(self):\n",
    "        return f\"Point({self.x}, {self.y})\"\n",
    "\n",
    "p1 = Point(1, 2)\n",
    "p2 = Point(3, 4)\n",
    "print(p1 + p2)\n"
   ]
  },
  {
   "cell_type": "markdown",
   "id": "0452a761",
   "metadata": {},
   "source": [
    "## Property Decorators (`@property`)"
   ]
  },
  {
   "cell_type": "markdown",
   "id": "e232aa9f",
   "metadata": {},
   "source": [
    "\n",
    "### Theory\n",
    "- The `@property` decorator allows you to define a method as a property.\n",
    "- Properties enable access to methods as if they were attributes.\n",
    "\n",
    "#### Use Cases:\n",
    "- Define getter, setter, and deleter methods for attributes.\n"
   ]
  },
  {
   "cell_type": "code",
   "execution_count": null,
   "id": "e90cb086",
   "metadata": {},
   "outputs": [],
   "source": [
    "\n",
    "# Example: Property Decorators\n",
    "class Temperature:\n",
    "    def __init__(self, celsius):\n",
    "        self.__celsius = celsius\n",
    "\n",
    "    @property\n",
    "    def fahrenheit(self):\n",
    "        return (self.__celsius * 9/5) + 32\n",
    "\n",
    "temp = Temperature(25)\n",
    "print(f\"Temperature in Fahrenheit: {temp.fahrenheit}\")\n"
   ]
  }
 ],
 "metadata": {
  "kernelspec": {
   "display_name": "Python 3 (ipykernel)",
   "language": "python",
   "name": "python3"
  },
  "language_info": {
   "codemirror_mode": {
    "name": "ipython",
    "version": 3
   },
   "file_extension": ".py",
   "mimetype": "text/x-python",
   "name": "python",
   "nbconvert_exporter": "python",
   "pygments_lexer": "ipython3",
   "version": "3.12.7"
  }
 },
 "nbformat": 4,
 "nbformat_minor": 5
}
