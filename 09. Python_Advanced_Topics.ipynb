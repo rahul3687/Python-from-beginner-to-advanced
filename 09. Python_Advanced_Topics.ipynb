{
 "cells": [
  {
   "cell_type": "markdown",
   "id": "dd6de322",
   "metadata": {},
   "source": [
    "# Python Advanced Topics"
   ]
  },
  {
   "cell_type": "markdown",
   "id": "26e6fc2e",
   "metadata": {},
   "source": [
    "\n",
    "Python offers advanced programming constructs that make it a powerful and flexible language. These topics enable developers to write more efficient, clean, and modular code.\n",
    "\n",
    "This notebook covers the following advanced topics:\n",
    "1. Iterators and Generators\n",
    "2. Decorators\n",
    "3. Context Managers\n",
    "4. Coroutines and Asyncio\n",
    "5. MetaProgramming (Metaclasses)\n",
    "    "
   ]
  },
  {
   "cell_type": "markdown",
   "id": "d5d41a8f",
   "metadata": {},
   "source": [
    "## Iterators and Generators"
   ]
  },
  {
   "cell_type": "markdown",
   "id": "d23049e5",
   "metadata": {},
   "source": [
    "\n",
    "### Iterators\n",
    "- An **iterator** is an object that can be iterated upon using the `__iter__()` and `__next__()` methods.\n",
    "- Use the `iter()` function to get an iterator and `next()` to fetch the next value.\n",
    "\n",
    "### Generators\n",
    "- A **generator** is a special type of iterator created using functions and the `yield` keyword.\n",
    "- Generators are more memory-efficient as they produce items on-the-fly.\n",
    "\n",
    "#### Syntax:\n",
    "```python\n",
    "def generator_function():\n",
    "    for i in range(5):\n",
    "        yield i\n",
    "```\n"
   ]
  },
  {
   "cell_type": "code",
   "execution_count": null,
   "id": "7dacd711",
   "metadata": {},
   "outputs": [],
   "source": [
    "\n",
    "# Example: Iterators\n",
    "numbers = iter([1, 2, 3, 4, 5])  # Create an iterator\n",
    "print(next(numbers))\n",
    "print(next(numbers))\n",
    "\n",
    "# Example: Generators\n",
    "def simple_generator():\n",
    "    for i in range(3):\n",
    "        yield i\n",
    "\n",
    "for value in simple_generator():\n",
    "    print(value)\n"
   ]
  },
  {
   "cell_type": "markdown",
   "id": "a297a3e7",
   "metadata": {},
   "source": [
    "## Decorators"
   ]
  },
  {
   "cell_type": "markdown",
   "id": "b1a5c5b8",
   "metadata": {},
   "source": [
    "\n",
    "### Theory\n",
    "- **Decorators** are functions that modify the behavior of another function or method.\n",
    "- They are often used for logging, access control, or modifying the output.\n",
    "\n",
    "#### Syntax:\n",
    "```python\n",
    "def decorator_function(original_function):\n",
    "    def wrapper_function():\n",
    "        # Modify behavior\n",
    "        return original_function()\n",
    "    return wrapper_function\n",
    "\n",
    "@decorator_function\n",
    "def display():\n",
    "    print(\"Display function called.\")\n",
    "```\n",
    "\n",
    "#### Example:\n",
    "Logging the execution of a function.\n"
   ]
  },
  {
   "cell_type": "code",
   "execution_count": null,
   "id": "bab1d47d",
   "metadata": {},
   "outputs": [],
   "source": [
    "\n",
    "# Example: Decorators\n",
    "def logger(func):\n",
    "    def wrapper(*args, **kwargs):\n",
    "        print(f\"Function '{func.__name__}' is being called.\")\n",
    "        return func(*args, **kwargs)\n",
    "    return wrapper\n",
    "\n",
    "@logger\n",
    "def greet(name):\n",
    "    print(f\"Hello, {name}!\")\n",
    "\n",
    "greet(\"Alice\")\n"
   ]
  },
  {
   "cell_type": "markdown",
   "id": "b3174ee9",
   "metadata": {},
   "source": [
    "## Context Managers"
   ]
  },
  {
   "cell_type": "markdown",
   "id": "ca8b0c97",
   "metadata": {},
   "source": [
    "\n",
    "### Theory\n",
    "- **Context Managers** handle resource management, ensuring proper setup and teardown (e.g., file handling).\n",
    "- The `with` statement is used for context managers.\n",
    "\n",
    "#### Syntax:\n",
    "```python\n",
    "with open(\"file.txt\", \"r\") as file:\n",
    "    content = file.read()\n",
    "```\n",
    "\n",
    "#### Creating Custom Context Managers\n",
    "Use the `contextlib` module or define `__enter__()` and `__exit__()` methods in a class.\n"
   ]
  },
  {
   "cell_type": "code",
   "execution_count": null,
   "id": "c443d446",
   "metadata": {},
   "outputs": [],
   "source": [
    "\n",
    "# Example: Custom Context Manager\n",
    "class FileManager:\n",
    "    def __init__(self, filename, mode):\n",
    "        self.filename = filename\n",
    "        self.mode = mode\n",
    "\n",
    "    def __enter__(self):\n",
    "        self.file = open(self.filename, self.mode)\n",
    "        return self.file\n",
    "\n",
    "    def __exit__(self, exc_type, exc_value, traceback):\n",
    "        self.file.close()\n",
    "\n",
    "with FileManager(\"example.txt\", \"w\") as file:\n",
    "    file.write(\"This is a test.\")\n"
   ]
  },
  {
   "cell_type": "markdown",
   "id": "fec671d8",
   "metadata": {},
   "source": [
    "## Coroutines and Asyncio"
   ]
  },
  {
   "cell_type": "markdown",
   "id": "00ccc3cf",
   "metadata": {},
   "source": [
    "\n",
    "### Coroutines\n",
    "- **Coroutines** are special functions that can pause and resume execution using the `await` keyword.\n",
    "- Useful for asynchronous programming.\n",
    "\n",
    "### Asyncio\n",
    "- The `asyncio` module provides tools for asynchronous programming, including event loops, coroutines, and tasks.\n",
    "\n",
    "#### Syntax:\n",
    "```python\n",
    "import asyncio\n",
    "\n",
    "async def async_function():\n",
    "    await asyncio.sleep(1)\n",
    "    print(\"Async function completed\")\n",
    "```\n"
   ]
  },
  {
   "cell_type": "code",
   "execution_count": null,
   "id": "4503b50a",
   "metadata": {},
   "outputs": [],
   "source": [
    "\n",
    "# Example: Asyncio\n",
    "import asyncio\n",
    "\n",
    "async def greet_after_delay(name, delay):\n",
    "    await asyncio.sleep(delay)\n",
    "    print(f\"Hello, {name}!\")\n",
    "\n",
    "async def main():\n",
    "    await asyncio.gather(\n",
    "        greet_after_delay(\"Alice\", 2),\n",
    "        greet_after_delay(\"Bob\", 1),\n",
    "    )\n",
    "\n",
    "asyncio.run(main())\n"
   ]
  },
  {
   "cell_type": "markdown",
   "id": "1f7bfdbd",
   "metadata": {},
   "source": [
    "## MetaProgramming (Metaclasses)"
   ]
  },
  {
   "cell_type": "markdown",
   "id": "2d6bc485",
   "metadata": {},
   "source": [
    "\n",
    "### Theory\n",
    "- **Metaclasses** are classes of classes, defining how a class behaves.\n",
    "- A class is an instance of a metaclass, and by default, it uses `type` as its metaclass.\n",
    "\n",
    "#### Use Cases:\n",
    "- Enforcing coding standards.\n",
    "- Dynamically modifying class behavior.\n",
    "\n",
    "#### Syntax:\n",
    "```python\n",
    "class Meta(type):\n",
    "    def __new__(cls, name, bases, dct):\n",
    "        # Modify class definition\n",
    "        return super().__new__(cls, name, bases, dct)\n",
    "```\n",
    "\n",
    "#### Example:\n",
    "Modify class attributes dynamically.\n"
   ]
  },
  {
   "cell_type": "code",
   "execution_count": null,
   "id": "1a73ff25",
   "metadata": {},
   "outputs": [],
   "source": [
    "\n",
    "# Example: Metaclass\n",
    "class Meta(type):\n",
    "    def __new__(cls, name, bases, dct):\n",
    "        dct['greet'] = lambda self: f\"Hello from {self.__class__.__name__}!\"\n",
    "        return super().__new__(cls, name, bases, dct)\n",
    "\n",
    "class MyClass(metaclass=Meta):\n",
    "    pass\n",
    "\n",
    "obj = MyClass()\n",
    "print(obj.greet())\n"
   ]
  }
 ],
 "metadata": {
  "kernelspec": {
   "display_name": "Python 3 (ipykernel)",
   "language": "python",
   "name": "python3"
  },
  "language_info": {
   "codemirror_mode": {
    "name": "ipython",
    "version": 3
   },
   "file_extension": ".py",
   "mimetype": "text/x-python",
   "name": "python",
   "nbconvert_exporter": "python",
   "pygments_lexer": "ipython3",
   "version": "3.12.7"
  }
 },
 "nbformat": 4,
 "nbformat_minor": 5
}
